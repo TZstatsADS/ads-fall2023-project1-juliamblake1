{
 "cells": [
  {
   "attachments": {
    "happy2.jpeg": {
     "image/jpeg": "[encoded data removed]"
    }
   },
   "cell_type": "markdown",
   "id": "1e8fbfcd",
   "metadata": {},
   "source": [
    "![happy2.jpeg](attachment:happy2.jpeg)"
   ]
  },
  {
   "cell_type": "markdown",
   "id": "d73a3359",
   "metadata": {},
   "source": [
    "# What makes us happy?\n",
    "Author: Julia Blake \\\\\n",
    "GR5243 Applied Data Science"
   ]
  },
  {
   "cell_type": "markdown",
   "id": "07763d9f",
   "metadata": {},
   "source": [
    "The goal of this project is to look deeper into the causes that make us happy. Natural language processing and text mining are natural tools to derive interesting findings in this collection of happy moments."
   ]
  },
  {
   "cell_type": "markdown",
   "id": "2ee63d00",
   "metadata": {},
   "source": [
    "In this project you will carry out an exploratory data analysis of the corpus of HappyDB and write a blog on interesting findings."
   ]
  },
  {
   "cell_type": "code",
   "execution_count": null,
   "id": "8defecee",
   "metadata": {},
   "outputs": [],
   "source": []
  },
  {
   "cell_type": "code",
   "execution_count": null,
   "id": "06f77767",
   "metadata": {},
   "outputs": [],
   "source": []
  },
  {
   "cell_type": "markdown",
   "id": "7b30911f",
   "metadata": {},
   "source": [
    "## Preliminary Data Exploration"
   ]
  },
  {
   "cell_type": "markdown",
   "id": "504cf61e",
   "metadata": {},
   "source": [
    "In order to draw any conclusions or relations from this data set, we must first explore what is provided to us. We will do a brief exploration into the variables."
   ]
  },
  {
   "cell_type": "code",
   "execution_count": 17,
   "id": "be7fa7b1",
   "metadata": {},
   "outputs": [],
   "source": [
    "import sys\n",
    "import numpy as np\n",
    "import matplotlib.pyplot as plt\n",
    "import seaborn as sns\n",
    "import plotly.express as p\n",
    "import pandas as pd"
   ]
  },
  {
   "cell_type": "code",
   "execution_count": 18,
   "id": "49700449",
   "metadata": {},
   "outputs": [
    {
     "name": "stdout",
     "output_type": "stream",
     "text": [
      "3.9.13 (main, Aug 25 2022, 23:51:50) [MSC v.1916 64 bit (AMD64)]\n"
     ]
    }
   ],
   "source": [
    "print(sys.version)"
   ]
  },
  {
   "cell_type": "code",
   "execution_count": 19,
   "id": "603ddd7a",
   "metadata": {},
   "outputs": [],
   "source": [
    "folder = 'https://raw.githubusercontent.com/megagonlabs/HappyDB/master/happydb/data/'\n",
    "cleaned_hm = pd.read_csv(folder+'cleaned_hm.csv', sep = \",\",on_bad_lines='skip')"
   ]
  },
  {
   "cell_type": "code",
   "execution_count": 20,
   "id": "c8bb9a87",
   "metadata": {
    "scrolled": true
   },
   "outputs": [
    {
     "data": {
      "text/html": [
       "<div>\n",
       "<style scoped>\n",
       "    .dataframe tbody tr th:only-of-type {\n",
       "        vertical-align: middle;\n",
       "    }\n",
       "\n",
       "    .dataframe tbody tr th {\n",
       "        vertical-align: top;\n",
       "    }\n",
       "\n",
       "    .dataframe thead th {\n",
       "        text-align: right;\n",
       "    }\n",
       "</style>\n",
       "<table border=\"1\" class=\"dataframe\">\n",
       "  <thead>\n",
       "    <tr style=\"text-align: right;\">\n",
       "      <th></th>\n",
       "      <th>hmid</th>\n",
       "      <th>wid</th>\n",
       "      <th>reflection_period</th>\n",
       "      <th>original_hm</th>\n",
       "      <th>cleaned_hm</th>\n",
       "      <th>modified</th>\n",
       "      <th>num_sentence</th>\n",
       "      <th>ground_truth_category</th>\n",
       "      <th>predicted_category</th>\n",
       "    </tr>\n",
       "  </thead>\n",
       "  <tbody>\n",
       "    <tr>\n",
       "      <th>0</th>\n",
       "      <td>27673</td>\n",
       "      <td>2053</td>\n",
       "      <td>24h</td>\n",
       "      <td>I went on a successful date with someone I fel...</td>\n",
       "      <td>I went on a successful date with someone I fel...</td>\n",
       "      <td>True</td>\n",
       "      <td>1</td>\n",
       "      <td>NaN</td>\n",
       "      <td>affection</td>\n",
       "    </tr>\n",
       "    <tr>\n",
       "      <th>1</th>\n",
       "      <td>27674</td>\n",
       "      <td>2</td>\n",
       "      <td>24h</td>\n",
       "      <td>I was happy when my son got 90% marks in his e...</td>\n",
       "      <td>I was happy when my son got 90% marks in his e...</td>\n",
       "      <td>True</td>\n",
       "      <td>1</td>\n",
       "      <td>NaN</td>\n",
       "      <td>affection</td>\n",
       "    </tr>\n",
       "    <tr>\n",
       "      <th>2</th>\n",
       "      <td>27675</td>\n",
       "      <td>1936</td>\n",
       "      <td>24h</td>\n",
       "      <td>I went to the gym this morning and did yoga.</td>\n",
       "      <td>I went to the gym this morning and did yoga.</td>\n",
       "      <td>True</td>\n",
       "      <td>1</td>\n",
       "      <td>NaN</td>\n",
       "      <td>exercise</td>\n",
       "    </tr>\n",
       "  </tbody>\n",
       "</table>\n",
       "</div>"
      ],
      "text/plain": [
       "    hmid   wid reflection_period  \\\n",
       "0  27673  2053               24h   \n",
       "1  27674     2               24h   \n",
       "2  27675  1936               24h   \n",
       "\n",
       "                                         original_hm  \\\n",
       "0  I went on a successful date with someone I fel...   \n",
       "1  I was happy when my son got 90% marks in his e...   \n",
       "2       I went to the gym this morning and did yoga.   \n",
       "\n",
       "                                          cleaned_hm  modified  num_sentence  \\\n",
       "0  I went on a successful date with someone I fel...      True             1   \n",
       "1  I was happy when my son got 90% marks in his e...      True             1   \n",
       "2       I went to the gym this morning and did yoga.      True             1   \n",
       "\n",
       "  ground_truth_category predicted_category  \n",
       "0                   NaN          affection  \n",
       "1                   NaN          affection  \n",
       "2                   NaN           exercise  "
      ]
     },
     "execution_count": 20,
     "metadata": {},
     "output_type": "execute_result"
    }
   ],
   "source": [
    "cleaned_hm.head(3)"
   ]
  },
  {
   "cell_type": "code",
   "execution_count": 21,
   "id": "b83f3d97",
   "metadata": {
    "scrolled": false
   },
   "outputs": [
    {
     "name": "stdout",
     "output_type": "stream",
     "text": [
      "<class 'pandas.core.frame.DataFrame'>\n",
      "RangeIndex: 100535 entries, 0 to 100534\n",
      "Data columns (total 9 columns):\n",
      " #   Column                 Non-Null Count   Dtype \n",
      "---  ------                 --------------   ----- \n",
      " 0   hmid                   100535 non-null  int64 \n",
      " 1   wid                    100535 non-null  int64 \n",
      " 2   reflection_period      100535 non-null  object\n",
      " 3   original_hm            100535 non-null  object\n",
      " 4   cleaned_hm             100535 non-null  object\n",
      " 5   modified               100535 non-null  bool  \n",
      " 6   num_sentence           100535 non-null  int64 \n",
      " 7   ground_truth_category  14125 non-null   object\n",
      " 8   predicted_category     100535 non-null  object\n",
      "dtypes: bool(1), int64(3), object(5)\n",
      "memory usage: 6.2+ MB\n"
     ]
    }
   ],
   "source": [
    "cleaned_hm.info()"
   ]
  },
  {
   "cell_type": "markdown",
   "id": "01d1809a",
   "metadata": {},
   "source": [
    "#### hmid, wid"
   ]
  },
  {
   "cell_type": "code",
   "execution_count": 42,
   "id": "2e7eddf5",
   "metadata": {},
   "outputs": [
    {
     "data": {
      "text/plain": [
       "(100535, 10841)"
      ]
     },
     "execution_count": 42,
     "metadata": {},
     "output_type": "execute_result"
    }
   ],
   "source": [
    "len(cleaned_hm['hmid'].unique()), len(cleaned_hm['wid'].unique())"
   ]
  },
  {
   "cell_type": "code",
   "execution_count": 56,
   "id": "d521cdb1",
   "metadata": {},
   "outputs": [
    {
     "data": {
      "text/plain": [
       "4     96\n",
       "18    96\n",
       "54    93\n",
       "31    90\n",
       "8     90\n",
       "1     90\n",
       "11    87\n",
       "9     87\n",
       "3     84\n",
       "28    84\n",
       "Name: wid, dtype: int64"
      ]
     },
     "execution_count": 56,
     "metadata": {},
     "output_type": "execute_result"
    }
   ],
   "source": [
    "cleaned_hm.loc[:,\"wid\"].value_counts().head(10)"
   ]
  },
  {
   "cell_type": "markdown",
   "id": "7b8fa8f0",
   "metadata": {},
   "source": [
    "We have 100,535 entries of happy moments, from 100,535 unique IDs but only 10,841 unique workers. Thus we have the same worker providing multiple happy moments entries. Two workers provided 96 entries of happy moments. At first look this appeared to be a very robust database, however we must keep in mind that although there are over 100,000 entries, they are by just over 10,000 workers. Albeit still a very good sample. Additionally, there are only 14,125 'ground_truth_category' entries.  "
   ]
  },
  {
   "cell_type": "markdown",
   "id": "e1e3974e",
   "metadata": {},
   "source": [
    "#### reflection period"
   ]
  },
  {
   "cell_type": "code",
   "execution_count": 107,
   "id": "d1c41ef1",
   "metadata": {},
   "outputs": [
    {
     "data": {
      "text/plain": [
       "0.5043417715223554"
      ]
     },
     "execution_count": 107,
     "metadata": {},
     "output_type": "execute_result"
    }
   ],
   "source": [
    "reflection_period_prop = (cleaned_hm.loc[cleaned_hm.reflection_period == '3m', 'reflection_period'].count())/ len(cleaned_hm.reflection_period)\n",
    "reflection_period_prop"
   ]
  },
  {
   "cell_type": "markdown",
   "id": "a5c220ff",
   "metadata": {},
   "source": [
    "The reflection period was assigned and provided to the workers. Half of the workers had a reflection period of 24 hours and the other half had 3 minutes."
   ]
  },
  {
   "cell_type": "markdown",
   "id": "8b417dec",
   "metadata": {},
   "source": [
    "#### number of sentences"
   ]
  },
  {
   "cell_type": "code",
   "execution_count": 66,
   "id": "2d34774d",
   "metadata": {},
   "outputs": [
    {
     "data": {
      "image/png": "[encoded data removed]",
      "text/plain": [
       "<Figure size 1000x400 with 1 Axes>"
      ]
     },
     "metadata": {},
     "output_type": "display_data"
    }
   ],
   "source": [
    "sentence_counts = cleaned_hm['num_sentence'].value_counts()\n",
    "\n",
    "# Create a bar plot\n",
    "plt.figure(figsize=(10, 4))  # You can adjust the figure size as needed\n",
    "plt.bar(sentence_counts.index, sentence_counts.values)\n",
    "\n",
    "# Adding labels and title\n",
    "plt.xlabel('Number of Sentences')\n",
    "plt.ylabel('Count')\n",
    "plt.title('Distribution of Number of Sentences')\n",
    "plt.show()"
   ]
  },
  {
   "cell_type": "code",
   "execution_count": 76,
   "id": "f4731213",
   "metadata": {},
   "outputs": [
    {
     "data": {
      "text/plain": [
       "69"
      ]
     },
     "execution_count": 76,
     "metadata": {},
     "output_type": "execute_result"
    }
   ],
   "source": [
    "cleaned_hm['num_sentence'].max()"
   ]
  },
  {
   "cell_type": "markdown",
   "id": "cf335554",
   "metadata": {},
   "source": [
    "The length of the entries range from one sentence to 69 sentences!  The majority of entries are completed in just one sentence (83,711), however there were a few workers that were wrote a lot."
   ]
  },
  {
   "cell_type": "markdown",
   "id": "64e83195",
   "metadata": {},
   "source": [
    "#### predicted category"
   ]
  },
  {
   "cell_type": "code",
   "execution_count": 30,
   "id": "85cbdb79",
   "metadata": {
    "scrolled": false
   },
   "outputs": [
    {
     "data": {
      "text/plain": [
       "affection           34168\n",
       "achievement         33993\n",
       "enjoy_the_moment    11144\n",
       "bonding             10727\n",
       "leisure              7458\n",
       "nature               1843\n",
       "exercise             1202\n",
       "Name: predicted_category, dtype: int64"
      ]
     },
     "execution_count": 30,
     "metadata": {},
     "output_type": "execute_result"
    }
   ],
   "source": [
    "cleaned_hm.loc[:,\"predicted_category\"].value_counts()"
   ]
  },
  {
   "cell_type": "code",
   "execution_count": 82,
   "id": "5bfa58c3",
   "metadata": {
    "scrolled": true
   },
   "outputs": [
    {
     "data": {
      "image/png": "[encoded data removed]",
      "text/plain": [
       "<Figure size 2000x400 with 1 Axes>"
      ]
     },
     "metadata": {},
     "output_type": "display_data"
    }
   ],
   "source": [
    "predicted_category_counts = cleaned_hm['predicted_category'].value_counts()\n",
    "\n",
    "# Create a bar plot\n",
    "plt.figure(figsize=(20, 4))  # You can adjust the figure size as needed\n",
    "plt.bar(predicted_category_counts.index, predicted_category_counts.values)\n",
    "\n",
    "# Adding labels and title\n",
    "plt.xlabel('Number of Sentences')\n",
    "plt.ylabel('Count')\n",
    "plt.title('Distribution of Predicted Category')\n",
    "plt.show()"
   ]
  },
  {
   "cell_type": "code",
   "execution_count": 99,
   "id": "19a8be1d",
   "metadata": {
    "scrolled": true
   },
   "outputs": [
    {
     "name": "stdout",
     "output_type": "stream",
     "text": [
      "33.986173969264435 33.81210523698214\n"
     ]
    }
   ],
   "source": [
    "prop_affection = (cleaned_hm.loc[cleaned_hm.predicted_category == 'affection', 'predicted_category'].count())/ len(cleaned_hm.predicted_category) *100\n",
    "prop_achievement = (cleaned_hm.loc[cleaned_hm.predicted_category == 'achievement', 'predicted_category'].count())/ len(cleaned_hm.predicted_category) *100\n",
    "print(prop_affection, prop_achievement)"
   ]
  },
  {
   "cell_type": "markdown",
   "id": "b8980ae9",
   "metadata": {},
   "source": [
    "Thus, we can see that the categories that tend to provide the most happy moments were those revolving around affection (33.99%), and achievement (33.81%. "
   ]
  },
  {
   "cell_type": "markdown",
   "id": "40a0276a",
   "metadata": {},
   "source": [
    "### Cleaning data"
   ]
  },
  {
   "cell_type": "code",
   "execution_count": 22,
   "id": "f5b38394",
   "metadata": {
    "scrolled": true
   },
   "outputs": [
    {
     "data": {
      "text/plain": [
       "Text(0.5, 1.0, 'Missing data')"
      ]
     },
     "execution_count": 22,
     "metadata": {},
     "output_type": "execute_result"
    },
    {
     "data": {
      "image/png": "[encoded data removed]",
      "text/plain": [
       "<Figure size 600x400 with 1 Axes>"
      ]
     },
     "metadata": {},
     "output_type": "display_data"
    }
   ],
   "source": [
    "fig, ax = plt.subplots(figsize=(6,4))\n",
    "sns.heatmap(cleaned_hm.isnull(), cbar=False)\n",
    "plt.title('Missing data')"
   ]
  },
  {
   "cell_type": "code",
   "execution_count": null,
   "id": "f6d73a92",
   "metadata": {},
   "outputs": [],
   "source": []
  },
  {
   "cell_type": "code",
   "execution_count": null,
   "id": "ccea33b1",
   "metadata": {},
   "outputs": [],
   "source": []
  },
  {
   "cell_type": "code",
   "execution_count": null,
   "id": "4ff5cbbd",
   "metadata": {},
   "outputs": [],
   "source": []
  },
  {
   "cell_type": "markdown",
   "id": "7c291123",
   "metadata": {},
   "source": [
    "## Find your question"
   ]
  },
  {
   "cell_type": "markdown",
   "id": "b6012e46",
   "metadata": {},
   "source": [
    "### Modelling\n",
    "Sentiment analysis, Clustering techniques, Topic modelling (LDA, word2vec)..."
   ]
  },
  {
   "cell_type": "code",
   "execution_count": 122,
   "id": "67ac7606",
   "metadata": {},
   "outputs": [
    {
     "name": "stderr",
     "output_type": "stream",
     "text": [
      "[nltk_data] Downloading package stopwords to\n",
      "[nltk_data]     C:\\Users\\julia\\AppData\\Roaming\\nltk_data...\n",
      "[nltk_data]   Package stopwords is already up-to-date!\n",
      "[nltk_data] Downloading package vader_lexicon to\n",
      "[nltk_data]     C:\\Users\\julia\\AppData\\Roaming\\nltk_data...\n",
      "[nltk_data]   Package vader_lexicon is already up-to-date!\n",
      "[nltk_data] Downloading package punkt to\n",
      "[nltk_data]     C:\\Users\\julia\\AppData\\Roaming\\nltk_data...\n",
      "[nltk_data]   Unzipping tokenizers\\punkt.zip.\n"
     ]
    },
    {
     "data": {
      "text/plain": [
       "True"
      ]
     },
     "execution_count": 122,
     "metadata": {},
     "output_type": "execute_result"
    }
   ],
   "source": [
    "import nltk\n",
    "\n",
    "nltk.download(['stopwords','vader_lexicon']) #download aspects of nltk needed for cleaning and analysis\n",
    "from nltk.corpus import stopwords\n",
    "from nltk.sentiment import SentimentIntensityAnalyzer\n",
    "\n",
    "from nltk.tokenize import word_tokenize\n",
    "from nltk.corpus import stopwords\n",
    "from collections import Counter\n",
    "\n",
    "nltk.download('punkt')"
   ]
  },
  {
   "cell_type": "code",
   "execution_count": 123,
   "id": "b9dafff2",
   "metadata": {},
   "outputs": [],
   "source": [
    "## Tokenize and preprocess the text, removing stopwords\n",
    "stop_words = set(stopwords.words('english')+['-pron-',',','.',';',':','?','!','-','--'])\n",
    "word_counts = Counter()"
   ]
  },
  {
   "cell_type": "code",
   "execution_count": 125,
   "id": "97ac13ac",
   "metadata": {},
   "outputs": [
    {
     "name": "stdout",
     "output_type": "stream",
     "text": [
      "happy: 37430\n",
      "got: 26762\n",
      "made: 22846\n",
      "went: 19232\n",
      "time: 18520\n",
      "new: 17736\n",
      "day: 16068\n",
      "work: 15694\n",
      "last: 12772\n",
      "friend: 12274\n",
      "good: 11686\n",
      "really: 10726\n",
      "one: 10646\n",
      "able: 10242\n",
      "today: 10152\n",
      "friends: 9390\n",
      "family: 9248\n",
      "first: 9120\n",
      "home: 8388\n",
      "get: 7874\n"
     ]
    }
   ],
   "source": [
    "for text in cleaned_hm[\"cleaned_hm\"]:\n",
    "    tokens = word_tokenize(text.lower())\n",
    "    filtered_tokens = [word for word in tokens if word.isalnum() and word not in stop_words]\n",
    "    word_counts.update(filtered_tokens)\n",
    "\n",
    "# Get the most common words and their frequencies\n",
    "num_most_common = 20\n",
    "most_common_words = word_counts.most_common(num_most_common)\n",
    "\n",
    "# Print the most common words and their frequencies\n",
    "for word, frequency in most_common_words:\n",
    "    print(f\"{word}: {frequency}\")\n"
   ]
  },
  {
   "cell_type": "code",
   "execution_count": null,
   "id": "90819056",
   "metadata": {},
   "outputs": [],
   "source": []
  },
  {
   "cell_type": "markdown",
   "id": "e9a5626e",
   "metadata": {},
   "source": [
    "### Data visualisation"
   ]
  },
  {
   "cell_type": "code",
   "execution_count": 23,
   "id": "fe2e0f2d",
   "metadata": {},
   "outputs": [],
   "source": [
    "import sys\n",
    "import os"
   ]
  },
  {
   "cell_type": "code",
   "execution_count": 108,
   "id": "086d2850",
   "metadata": {},
   "outputs": [],
   "source": [
    "#module_path = '/Users/clairehe/Documents/GitHub/STATGR2022/Example/codes'\n",
    "module_path = 'C:/Users/julia/OneDrive/Documents/GitHub/ads-fall2023-project1-juliamblake1/lib'\n",
    "if module_path not in sys.path:\n",
    "    sys.path.append(module_path)"
   ]
  },
  {
   "cell_type": "code",
   "execution_count": 109,
   "id": "06a65e08",
   "metadata": {},
   "outputs": [
    {
     "ename": "ModuleNotFoundError",
     "evalue": "No module named 'codes'",
     "output_type": "error",
     "traceback": [
      "\u001b[1;31m---------------------------------------------------------------------------\u001b[0m",
      "\u001b[1;31mModuleNotFoundError\u001b[0m                       Traceback (most recent call last)",
      "\u001b[1;32m~\\AppData\\Local\\Temp\\ipykernel_12232\\1808092015.py\u001b[0m in \u001b[0;36m<module>\u001b[1;34m\u001b[0m\n\u001b[1;32m----> 1\u001b[1;33m \u001b[1;32mfrom\u001b[0m \u001b[0mcodes\u001b[0m\u001b[1;33m.\u001b[0m\u001b[0mwordcloud_maker\u001b[0m \u001b[1;32mimport\u001b[0m \u001b[1;33m*\u001b[0m\u001b[1;33m\u001b[0m\u001b[1;33m\u001b[0m\u001b[0m\n\u001b[0m",
      "\u001b[1;31mModuleNotFoundError\u001b[0m: No module named 'codes'"
     ]
    }
   ],
   "source": [
    "from codes.wordcloud_maker import *"
   ]
  },
  {
   "cell_type": "code",
   "execution_count": null,
   "id": "22b49cff",
   "metadata": {
    "scrolled": true
   },
   "outputs": [],
   "source": [
    "make_word_cloud(cleaned_hm)"
   ]
  },
  {
   "cell_type": "code",
   "execution_count": null,
   "id": "95acf3c6",
   "metadata": {},
   "outputs": [],
   "source": [
    "sns.histplot(cleaned_hm['num_sentence'])"
   ]
  },
  {
   "cell_type": "code",
   "execution_count": null,
   "id": "3fe0efb3",
   "metadata": {},
   "outputs": [],
   "source": []
  },
  {
   "cell_type": "markdown",
   "id": "d44b536f",
   "metadata": {},
   "source": [
    "## Conclusion"
   ]
  },
  {
   "cell_type": "code",
   "execution_count": null,
   "id": "5dbb3686",
   "metadata": {},
   "outputs": [],
   "source": []
  },
  {
   "cell_type": "code",
   "execution_count": null,
   "id": "6a19b585",
   "metadata": {},
   "outputs": [],
   "source": []
  },
  {
   "cell_type": "markdown",
   "id": "3922f25d",
   "metadata": {},
   "source": [
    "#### Links"
   ]
  },
  {
   "cell_type": "code",
   "execution_count": null,
   "id": "f762371d",
   "metadata": {},
   "outputs": [],
   "source": [
    "https://github.com/megagonlabs/HappyDB/tree/master\n"
   ]
  }
 ],
 "metadata": {
  "kernelspec": {
   "display_name": "Python 3 (ipykernel)",
   "language": "python",
   "name": "python3"
  },
  "language_info": {
   "codemirror_mode": {
    "name": "ipython",
    "version": 3
   },
   "file_extension": ".py",
   "mimetype": "text/x-python",
   "name": "python",
   "nbconvert_exporter": "python",
   "pygments_lexer": "ipython3",
   "version": "3.9.13"
  }
 },
 "nbformat": 4,
 "nbformat_minor": 5
}
