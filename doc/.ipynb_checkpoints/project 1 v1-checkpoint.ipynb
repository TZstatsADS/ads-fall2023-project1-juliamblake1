{
 "cells": [
  {
   "attachments": {
    "happy2.jpeg": {
     "image/jpeg": "[encoded data removed]"
    }
   },
   "cell_type": "markdown",
   "id": "1e8fbfcd",
   "metadata": {},
   "source": [
    "![happy2.jpeg](attachment:happy2.jpeg)"
   ]
  },
  {
   "cell_type": "markdown",
   "id": "d73a3359",
   "metadata": {},
   "source": [
    "# What makes us happy?\n",
    "Author: Julia Blake \\\\\n",
    "GR5243 Applied Data Science"
   ]
  },
  {
   "cell_type": "markdown",
   "id": "2ee63d00",
   "metadata": {},
   "source": [
    "In a world constantly bustling with activity and marked by a never-ending pursuit of success and fulfillment, there's one elusive treasure that stands above all else: happiness. What is happiness, and how do we find it? This timeless question has intrigued philosophers, psychologists, and ordinary individuals alike for centuries. It's a quest that transcends cultural boundaries and societal norms, and it's a journey that we embark upon from the moment we're born.\n",
    "\n",
    "But what exactly is the essence of happiness? Is it found in material wealth, in relationships, or in the pursuit of personal goals and dreams? Can it be quantified and measured, or is it a subjective and ever-changing state of mind?\n",
    "\n",
    "We will try to dive a bit deeper into what makes us happy and how the answer to that question varies for different groups of people. Perhaps some of the conclusions we are able to form can guide us as we stive to live healthier and happier lives in this ever-changing and challenging world."
   ]
  },
  {
   "cell_type": "markdown",
   "id": "72432b20",
   "metadata": {},
   "source": [
    "## Preliminary Data Exploration"
   ]
  },
  {
   "cell_type": "markdown",
   "id": "b71fdbb6",
   "metadata": {},
   "source": [
    "In order to draw any conclusions or relations from this data set, we must first explore what is provided to us. We will do a brief exploration into the variables."
   ]
  },
  {
   "cell_type": "code",
   "execution_count": 2,
   "id": "be7fa7b1",
   "metadata": {},
   "outputs": [],
   "source": [
    "import sys\n",
    "import numpy as np\n",
    "import matplotlib.pyplot as plt\n",
    "import seaborn as sns\n",
    "import plotly.express as p\n",
    "import pandas as pd"
   ]
  },
  {
   "cell_type": "code",
   "execution_count": 3,
   "id": "49700449",
   "metadata": {},
   "outputs": [
    {
     "name": "stdout",
     "output_type": "stream",
     "text": [
      "3.9.13 (main, Aug 25 2022, 23:51:50) [MSC v.1916 64 bit (AMD64)]\n"
     ]
    }
   ],
   "source": [
    "print(sys.version)"
   ]
  },
  {
   "cell_type": "code",
   "execution_count": 4,
   "id": "603ddd7a",
   "metadata": {},
   "outputs": [
    {
     "data": {
      "text/html": [
       "<div>\n",
       "<style scoped>\n",
       "    .dataframe tbody tr th:only-of-type {\n",
       "        vertical-align: middle;\n",
       "    }\n",
       "\n",
       "    .dataframe tbody tr th {\n",
       "        vertical-align: top;\n",
       "    }\n",
       "\n",
       "    .dataframe thead th {\n",
       "        text-align: right;\n",
       "    }\n",
       "</style>\n",
       "<table border=\"1\" class=\"dataframe\">\n",
       "  <thead>\n",
       "    <tr style=\"text-align: right;\">\n",
       "      <th></th>\n",
       "      <th>hmid</th>\n",
       "      <th>wid</th>\n",
       "      <th>reflection_period</th>\n",
       "      <th>original_hm</th>\n",
       "      <th>cleaned_hm</th>\n",
       "      <th>modified</th>\n",
       "      <th>num_sentence</th>\n",
       "      <th>ground_truth_category</th>\n",
       "      <th>predicted_category</th>\n",
       "      <th>age</th>\n",
       "      <th>country</th>\n",
       "      <th>gender</th>\n",
       "      <th>marital</th>\n",
       "      <th>parenthood</th>\n",
       "    </tr>\n",
       "  </thead>\n",
       "  <tbody>\n",
       "    <tr>\n",
       "      <th>0</th>\n",
       "      <td>27673</td>\n",
       "      <td>2053</td>\n",
       "      <td>24h</td>\n",
       "      <td>I went on a successful date with someone I fel...</td>\n",
       "      <td>I went on a successful date with someone I fel...</td>\n",
       "      <td>True</td>\n",
       "      <td>1</td>\n",
       "      <td>NaN</td>\n",
       "      <td>affection</td>\n",
       "      <td>35</td>\n",
       "      <td>USA</td>\n",
       "      <td>m</td>\n",
       "      <td>single</td>\n",
       "      <td>n</td>\n",
       "    </tr>\n",
       "    <tr>\n",
       "      <th>1</th>\n",
       "      <td>27873</td>\n",
       "      <td>2053</td>\n",
       "      <td>24h</td>\n",
       "      <td>I played a new game that was fun and got to en...</td>\n",
       "      <td>I played a new game that was fun and got to en...</td>\n",
       "      <td>True</td>\n",
       "      <td>1</td>\n",
       "      <td>NaN</td>\n",
       "      <td>leisure</td>\n",
       "      <td>35</td>\n",
       "      <td>USA</td>\n",
       "      <td>m</td>\n",
       "      <td>single</td>\n",
       "      <td>n</td>\n",
       "    </tr>\n",
       "    <tr>\n",
       "      <th>2</th>\n",
       "      <td>28073</td>\n",
       "      <td>2053</td>\n",
       "      <td>24h</td>\n",
       "      <td>I listened to some music and heard an entire a...</td>\n",
       "      <td>I listened to some music and heard an entire a...</td>\n",
       "      <td>True</td>\n",
       "      <td>1</td>\n",
       "      <td>NaN</td>\n",
       "      <td>leisure</td>\n",
       "      <td>35</td>\n",
       "      <td>USA</td>\n",
       "      <td>m</td>\n",
       "      <td>single</td>\n",
       "      <td>n</td>\n",
       "    </tr>\n",
       "  </tbody>\n",
       "</table>\n",
       "</div>"
      ],
      "text/plain": [
       "    hmid   wid reflection_period  \\\n",
       "0  27673  2053               24h   \n",
       "1  27873  2053               24h   \n",
       "2  28073  2053               24h   \n",
       "\n",
       "                                         original_hm  \\\n",
       "0  I went on a successful date with someone I fel...   \n",
       "1  I played a new game that was fun and got to en...   \n",
       "2  I listened to some music and heard an entire a...   \n",
       "\n",
       "                                          cleaned_hm  modified  num_sentence  \\\n",
       "0  I went on a successful date with someone I fel...      True             1   \n",
       "1  I played a new game that was fun and got to en...      True             1   \n",
       "2  I listened to some music and heard an entire a...      True             1   \n",
       "\n",
       "  ground_truth_category predicted_category age country gender marital  \\\n",
       "0                   NaN          affection  35     USA      m  single   \n",
       "1                   NaN            leisure  35     USA      m  single   \n",
       "2                   NaN            leisure  35     USA      m  single   \n",
       "\n",
       "  parenthood  \n",
       "0          n  \n",
       "1          n  \n",
       "2          n  "
      ]
     },
     "execution_count": 4,
     "metadata": {},
     "output_type": "execute_result"
    }
   ],
   "source": [
    "folder = 'https://raw.githubusercontent.com/megagonlabs/HappyDB/master/happydb/data/'\n",
    "cleaned_hm = pd.read_csv(folder+'cleaned_hm.csv', sep = \",\",on_bad_lines='skip')\n",
    "demographic = pd.read_csv(folder+'demographic.csv', sep = \",\",on_bad_lines='skip')\n",
    "happydemo = pd.merge(cleaned_hm, demographic, on='wid')\n",
    "happydemo.head(3)"
   ]
  },
  {
   "cell_type": "code",
   "execution_count": 5,
   "id": "b83f3d97",
   "metadata": {
    "scrolled": false
   },
   "outputs": [
    {
     "name": "stdout",
     "output_type": "stream",
     "text": [
      "<class 'pandas.core.frame.DataFrame'>\n",
      "Int64Index: 100535 entries, 0 to 100534\n",
      "Data columns (total 14 columns):\n",
      " #   Column                 Non-Null Count   Dtype \n",
      "---  ------                 --------------   ----- \n",
      " 0   hmid                   100535 non-null  int64 \n",
      " 1   wid                    100535 non-null  int64 \n",
      " 2   reflection_period      100535 non-null  object\n",
      " 3   original_hm            100535 non-null  object\n",
      " 4   cleaned_hm             100535 non-null  object\n",
      " 5   modified               100535 non-null  bool  \n",
      " 6   num_sentence           100535 non-null  int64 \n",
      " 7   ground_truth_category  14125 non-null   object\n",
      " 8   predicted_category     100535 non-null  object\n",
      " 9   age                    100442 non-null  object\n",
      " 10  country                100332 non-null  object\n",
      " 11  gender                 100456 non-null  object\n",
      " 12  marital                100378 non-null  object\n",
      " 13  parenthood             100457 non-null  object\n",
      "dtypes: bool(1), int64(3), object(10)\n",
      "memory usage: 10.8+ MB\n"
     ]
    }
   ],
   "source": [
    "happydemo.info()"
   ]
  },
  {
   "cell_type": "code",
   "execution_count": 6,
   "id": "47cf9143",
   "metadata": {},
   "outputs": [
    {
     "data": {
      "text/plain": [
       "(100535, 10841)"
      ]
     },
     "execution_count": 6,
     "metadata": {},
     "output_type": "execute_result"
    }
   ],
   "source": [
    "len(happydemo['hmid'].unique()), len(happydemo['wid'].unique())"
   ]
  },
  {
   "cell_type": "code",
   "execution_count": 7,
   "id": "8f2db238",
   "metadata": {},
   "outputs": [
    {
     "data": {
      "text/plain": [
       "4     96\n",
       "18    96\n",
       "54    93\n",
       "31    90\n",
       "8     90\n",
       "1     90\n",
       "11    87\n",
       "9     87\n",
       "3     84\n",
       "28    84\n",
       "Name: wid, dtype: int64"
      ]
     },
     "execution_count": 7,
     "metadata": {},
     "output_type": "execute_result"
    }
   ],
   "source": [
    "happydemo.loc[:,\"wid\"].value_counts().head(10)"
   ]
  },
  {
   "cell_type": "markdown",
   "id": "cc646b01",
   "metadata": {},
   "source": [
    "We have 100,535 entries of happy moments, from 100,535 unique IDs but only 10,841 unique workers. Thus we have the same worker providing multiple happy moments entries. Two workers provided 96 entries of happy moments. At first look this appeared to be a very robust database, however we must keep in mind that although there are over 100,000 entries, they are by just over 10,000 workers. Albeit still a very good sample. Additionally, there are only 14,125 'ground_truth_category' entries.  "
   ]
  },
  {
   "cell_type": "markdown",
   "id": "82157169",
   "metadata": {},
   "source": [
    "#### reflection period"
   ]
  },
  {
   "cell_type": "code",
   "execution_count": 8,
   "id": "070c993d",
   "metadata": {},
   "outputs": [
    {
     "data": {
      "text/plain": [
       "0.5043417715223554"
      ]
     },
     "execution_count": 8,
     "metadata": {},
     "output_type": "execute_result"
    }
   ],
   "source": [
    "reflection_period_prop = (happydemo.loc[happydemo.reflection_period == '3m', 'reflection_period'].count())/ len(happydemo.reflection_period)\n",
    "reflection_period_prop"
   ]
  },
  {
   "cell_type": "markdown",
   "id": "0d5aa980",
   "metadata": {},
   "source": [
    "The reflection period was assigned and provided to the workers. Half of the workers had a reflection period of 24 hours and the other half had 3 minutes."
   ]
  },
  {
   "cell_type": "markdown",
   "id": "07299e70",
   "metadata": {},
   "source": [
    "#### number of sentences"
   ]
  },
  {
   "cell_type": "code",
   "execution_count": 9,
   "id": "88e8be69",
   "metadata": {},
   "outputs": [
    {
     "data": {
      "image/png": "[encoded data removed]",
      "text/plain": [
       "<Figure size 1000x400 with 1 Axes>"
      ]
     },
     "metadata": {},
     "output_type": "display_data"
    }
   ],
   "source": [
    "sentence_counts = happydemo['num_sentence'].value_counts()\n",
    "\n",
    "# Create a bar plot\n",
    "plt.figure(figsize=(10, 4))  # You can adjust the figure size as needed\n",
    "plt.bar(sentence_counts.index, sentence_counts.values)\n",
    "\n",
    "# Adding labels and title\n",
    "plt.xlabel('Number of Sentences')\n",
    "plt.ylabel('Count')\n",
    "plt.title('Distribution of Number of Sentences')\n",
    "plt.show()"
   ]
  },
  {
   "cell_type": "code",
   "execution_count": 10,
   "id": "9c3a5da9",
   "metadata": {},
   "outputs": [
    {
     "data": {
      "text/plain": [
       "69"
      ]
     },
     "execution_count": 10,
     "metadata": {},
     "output_type": "execute_result"
    }
   ],
   "source": [
    "happydemo['num_sentence'].max()"
   ]
  },
  {
   "cell_type": "markdown",
   "id": "3c0cd6e6",
   "metadata": {},
   "source": [
    "The length of the entries range from one sentence to 69 sentences!  The majority of entries are completed in just one sentence (83,711), however there were a few workers that were wrote a lot."
   ]
  },
  {
   "cell_type": "markdown",
   "id": "7b9181c6",
   "metadata": {},
   "source": [
    "#### predicted category"
   ]
  },
  {
   "cell_type": "code",
   "execution_count": 11,
   "id": "8b00783d",
   "metadata": {
    "scrolled": false
   },
   "outputs": [
    {
     "data": {
      "text/plain": [
       "affection           34168\n",
       "achievement         33993\n",
       "enjoy_the_moment    11144\n",
       "bonding             10727\n",
       "leisure              7458\n",
       "nature               1843\n",
       "exercise             1202\n",
       "Name: predicted_category, dtype: int64"
      ]
     },
     "execution_count": 11,
     "metadata": {},
     "output_type": "execute_result"
    }
   ],
   "source": [
    "happydemo.loc[:,\"predicted_category\"].value_counts()"
   ]
  },
  {
   "cell_type": "code",
   "execution_count": 24,
   "id": "ad8f7e7e",
   "metadata": {
    "scrolled": true
   },
   "outputs": [
    {
     "data": {
      "image/png": "[encoded data removed]",
      "text/plain": [
       "<Figure size 2000x400 with 1 Axes>"
      ]
     },
     "metadata": {},
     "output_type": "display_data"
    }
   ],
   "source": [
    "predicted_category_counts = happydemo['predicted_category'].value_counts()\n",
    "\n",
    "# Create a bar plot\n",
    "plt.figure(figsize=(20, 4))  # You can adjust the figure size as needed\n",
    "plt.bar(predicted_category_counts.index, predicted_category_counts.values)\n",
    "\n",
    "# Adding labels and title\n",
    "plt.xlabel('Category')\n",
    "plt.ylabel('Count')\n",
    "plt.title('Distribution of Predicted Category')\n",
    "plt.show()"
   ]
  },
  {
   "cell_type": "code",
   "execution_count": 13,
   "id": "c725f63b",
   "metadata": {
    "scrolled": true
   },
   "outputs": [
    {
     "name": "stdout",
     "output_type": "stream",
     "text": [
      "33.986173969264435 33.81210523698214\n"
     ]
    }
   ],
   "source": [
    "prop_affection = (happydemo.loc[happydemo.predicted_category == 'affection', 'predicted_category'].count())/ len(happydemo.predicted_category) *100\n",
    "prop_achievement = (happydemo.loc[happydemo.predicted_category == 'achievement', 'predicted_category'].count())/ len(happydemo.predicted_category) *100\n",
    "print(prop_affection, prop_achievement)"
   ]
  },
  {
   "cell_type": "markdown",
   "id": "8a9dc439",
   "metadata": {},
   "source": [
    "Thus, we can see that the categories that tend to provide the most happy moments were those revolving around affection (33.99%), and achievement (33.81%. "
   ]
  },
  {
   "cell_type": "code",
   "execution_count": 14,
   "id": "9a0ac5a9",
   "metadata": {},
   "outputs": [
    {
     "name": "stdout",
     "output_type": "stream",
     "text": [
      "57.38300094494455 41.84512856219227 0.6932908937186054\n"
     ]
    }
   ],
   "source": [
    "prop_male = (happydemo.loc[happydemo.gender == 'm', 'gender'].count())/ len(happydemo.gender) *100\n",
    "prop_female = (happydemo.loc[happydemo.gender == 'f', 'gender'].count())/ len(happydemo.gender) *100\n",
    "prop_other = (happydemo.loc[happydemo.gender == 'o', 'gender'].count())/ len(happydemo.gender) *100\n",
    "print(prop_male, prop_female, prop_other)"
   ]
  },
  {
   "cell_type": "code",
   "execution_count": 23,
   "id": "3b5aef2a",
   "metadata": {},
   "outputs": [
    {
     "data": {
      "image/png": "[encoded data removed]",
      "text/plain": [
       "<Figure size 2000x400 with 1 Axes>"
      ]
     },
     "metadata": {},
     "output_type": "display_data"
    }
   ],
   "source": [
    "gender_counts = happydemo['gender'].value_counts()\n",
    "\n",
    "# Create a bar plot\n",
    "plt.figure(figsize=(20, 4))  # You can adjust the figure size as needed\n",
    "plt.bar(gender_counts.index, gender_counts.values)\n",
    "\n",
    "# Adding labels and title\n",
    "plt.xlabel('Gender')\n",
    "plt.ylabel('Count')\n",
    "plt.title('Distribution of Gender')\n",
    "plt.show()"
   ]
  },
  {
   "cell_type": "markdown",
   "id": "05ee2e3d",
   "metadata": {},
   "source": [
    "Here we can see the distribution of men and women submissions in this sample. Although there are a substantial amount more men (57% versus 42%), I believe the sample is sufficient to continue."
   ]
  },
  {
   "cell_type": "markdown",
   "id": "40a0276a",
   "metadata": {},
   "source": [
    "### Cleaning data"
   ]
  },
  {
   "cell_type": "code",
   "execution_count": 16,
   "id": "f5b38394",
   "metadata": {
    "scrolled": true
   },
   "outputs": [
    {
     "data": {
      "text/plain": [
       "Text(0.5, 1.0, 'Missing data')"
      ]
     },
     "execution_count": 16,
     "metadata": {},
     "output_type": "execute_result"
    },
    {
     "data": {
      "image/png": "[encoded data removed]",
      "text/plain": [
       "<Figure size 600x400 with 1 Axes>"
      ]
     },
     "metadata": {},
     "output_type": "display_data"
    }
   ],
   "source": [
    "fig, ax = plt.subplots(figsize=(6,4))\n",
    "sns.heatmap(happydemo.isnull(), cbar=False)\n",
    "plt.title('Missing data')"
   ]
  },
  {
   "cell_type": "markdown",
   "id": "a46ceaa6",
   "metadata": {},
   "source": [
    "# What type of happiness are men and women more likely to describe?"
   ]
  },
  {
   "attachments": {
    "manwoman.jpeg": {
     "image/jpeg": "[encoded data removed]"
    }
   },
   "cell_type": "markdown",
   "id": "80d9f4b7",
   "metadata": {},
   "source": [
    "![manwoman.jpeg](attachment:manwoman.jpeg)"
   ]
  },
  {
   "cell_type": "markdown",
   "id": "8d9da2b1",
   "metadata": {},
   "source": [
    "### Modelling\n",
    "Sentiment analysis, Clustering techniques, Topic modelling (LDA, word2vec)..."
   ]
  },
  {
   "cell_type": "code",
   "execution_count": 38,
   "id": "449e2142",
   "metadata": {
    "scrolled": true
   },
   "outputs": [
    {
     "name": "stderr",
     "output_type": "stream",
     "text": [
      "[nltk_data] Downloading package stopwords to\n",
      "[nltk_data]     C:\\Users\\julia\\AppData\\Roaming\\nltk_data...\n",
      "[nltk_data]   Package stopwords is already up-to-date!\n",
      "[nltk_data] Downloading package vader_lexicon to\n",
      "[nltk_data]     C:\\Users\\julia\\AppData\\Roaming\\nltk_data...\n",
      "[nltk_data]   Package vader_lexicon is already up-to-date!\n",
      "[nltk_data] Downloading package punkt to\n",
      "[nltk_data]     C:\\Users\\julia\\AppData\\Roaming\\nltk_data...\n",
      "[nltk_data]   Package punkt is already up-to-date!\n"
     ]
    },
    {
     "data": {
      "text/plain": [
       "True"
      ]
     },
     "execution_count": 38,
     "metadata": {},
     "output_type": "execute_result"
    }
   ],
   "source": [
    "import nltk\n",
    "\n",
    "nltk.download(['stopwords','vader_lexicon']) #download aspects of nltk needed for cleaning and analysis\n",
    "from nltk.corpus import stopwords\n",
    "from nltk.sentiment import SentimentIntensityAnalyzer\n",
    "\n",
    "from nltk.tokenize import word_tokenize\n",
    "from nltk.corpus import stopwords\n",
    "from collections import Counter\n",
    "\n",
    "nltk.download('punkt')"
   ]
  },
  {
   "cell_type": "markdown",
   "id": "ec499f06",
   "metadata": {},
   "source": [
    "In order to analyze the most commonly used words in the text provided by the workers, we remove stop words, or common words and characters which don't alter meaning in a sentence (e.g. I, for)."
   ]
  },
  {
   "cell_type": "code",
   "execution_count": null,
   "id": "b7bc4968",
   "metadata": {},
   "outputs": [],
   "source": [
    "## Tokenize and preprocess the text, removing stopwords\n",
    "stop_words = set(stopwords.words('english')+['-pron-',',','.',';',':','?','!','-','--'])\n",
    "word_counts = Counter()"
   ]
  },
  {
   "cell_type": "code",
   "execution_count": 32,
   "id": "235203c0",
   "metadata": {},
   "outputs": [],
   "source": [
    "male_moments = happydemo.loc[happydemo.gender == 'm', 'cleaned_hm'].tolist()\n",
    "female_moments = happydemo.loc[happydemo.gender == 'f', 'cleaned_hm'].tolist()"
   ]
  },
  {
   "cell_type": "code",
   "execution_count": 29,
   "id": "f243ba99",
   "metadata": {
    "scrolled": true
   },
   "outputs": [
    {
     "name": "stdout",
     "output_type": "stream",
     "text": [
      "happy: 28483\n",
      "got: 21175\n",
      "made: 17546\n",
      "went: 15096\n",
      "new: 14366\n",
      "time: 14306\n",
      "work: 12660\n",
      "day: 12303\n",
      "last: 10249\n",
      "friend: 9621\n",
      "good: 9338\n",
      "one: 8497\n",
      "really: 8210\n",
      "able: 7981\n",
      "today: 7945\n",
      "friends: 7693\n",
      "family: 7137\n",
      "first: 7008\n",
      "home: 6474\n",
      "get: 6063\n"
     ]
    }
   ],
   "source": [
    "for text in male_moments:\n",
    "    tokens = word_tokenize(text.lower())\n",
    "    filtered_tokens = [word for word in tokens if word.isalnum() and word not in stop_words]\n",
    "    word_counts.update(filtered_tokens)\n",
    "\n",
    "# Get the most common words and their frequencies\n",
    "num_most_common = 20\n",
    "most_common_words = word_counts.most_common(num_most_common)\n",
    "\n",
    "# Print the most common words and their frequencies\n",
    "for word, frequency in most_common_words:\n",
    "    print(f\"{word}: {frequency}\")"
   ]
  },
  {
   "cell_type": "code",
   "execution_count": 33,
   "id": "a6949081",
   "metadata": {},
   "outputs": [
    {
     "name": "stdout",
     "output_type": "stream",
     "text": [
      "happy: 37353\n",
      "got: 26640\n",
      "made: 22788\n",
      "went: 19177\n",
      "time: 18463\n",
      "new: 17691\n",
      "day: 16024\n",
      "work: 15647\n",
      "last: 12739\n",
      "friend: 12206\n",
      "good: 11638\n",
      "really: 10683\n",
      "one: 10618\n",
      "able: 10190\n",
      "today: 10107\n",
      "friends: 9363\n",
      "family: 9221\n",
      "first: 9084\n",
      "home: 8361\n",
      "get: 7854\n"
     ]
    }
   ],
   "source": [
    "for text in female_moments:\n",
    "    tokens = word_tokenize(text.lower())\n",
    "    filtered_tokens = [word for word in tokens if word.isalnum() and word not in stop_words]\n",
    "    word_counts.update(filtered_tokens)\n",
    "\n",
    "# Get the most common words and their frequencies\n",
    "num_most_common = 20\n",
    "most_common_words = word_counts.most_common(num_most_common)\n",
    "\n",
    "# Print the most common words and their frequencies\n",
    "for word, frequency in most_common_words:\n",
    "    print(f\"{word}: {frequency}\")"
   ]
  },
  {
   "cell_type": "code",
   "execution_count": 36,
   "id": "aa8af3c3",
   "metadata": {
    "scrolled": true
   },
   "outputs": [
    {
     "data": {
      "text/plain": [
       "achievement         21177\n",
       "affection           16748\n",
       "enjoy_the_moment     6719\n",
       "bonding              6455\n",
       "leisure              4825\n",
       "nature                942\n",
       "exercise              824\n",
       "Name: predicted_category, dtype: int64"
      ]
     },
     "execution_count": 36,
     "metadata": {},
     "output_type": "execute_result"
    }
   ],
   "source": [
    "happydemo.loc[happydemo.gender == 'm', 'predicted_category'].value_counts()"
   ]
  },
  {
   "cell_type": "code",
   "execution_count": 37,
   "id": "b62dda66",
   "metadata": {
    "scrolled": true
   },
   "outputs": [
    {
     "data": {
      "text/plain": [
       "affection           17193\n",
       "achievement         12545\n",
       "enjoy_the_moment     4323\n",
       "bonding              4174\n",
       "leisure              2578\n",
       "nature                889\n",
       "exercise              367\n",
       "Name: predicted_category, dtype: int64"
      ]
     },
     "execution_count": 37,
     "metadata": {},
     "output_type": "execute_result"
    }
   ],
   "source": [
    "happydemo.loc[happydemo.gender == 'f', 'predicted_category'].value_counts()"
   ]
  },
  {
   "cell_type": "markdown",
   "id": "64606cd8",
   "metadata": {},
   "source": [
    "In fact, the happy moments described by females were most likely to be describing moments of affects versus achievement for their male counterparts."
   ]
  },
  {
   "cell_type": "code",
   "execution_count": 19,
   "id": "75f5b8f7",
   "metadata": {},
   "outputs": [
    {
     "name": "stdout",
     "output_type": "stream",
     "text": [
      "happy: 18715\n",
      "got: 13381\n",
      "made: 11423\n",
      "went: 9616\n",
      "time: 9260\n",
      "new: 8868\n",
      "day: 8034\n",
      "work: 7847\n",
      "last: 6386\n",
      "friend: 6137\n",
      "good: 5843\n",
      "really: 5363\n",
      "one: 5323\n",
      "able: 5121\n",
      "today: 5076\n",
      "friends: 4695\n",
      "family: 4624\n",
      "first: 4560\n",
      "home: 4194\n",
      "get: 3937\n"
     ]
    }
   ],
   "source": [
    "for text in happydemo[\"cleaned_hm\"]:\n",
    "    tokens = word_tokenize(text.lower())\n",
    "    filtered_tokens = [word for word in tokens if word.isalnum() and word not in stop_words]\n",
    "    word_counts.update(filtered_tokens)\n",
    "\n",
    "# Get the most common words and their frequencies\n",
    "num_most_common = 20\n",
    "most_common_words = word_counts.most_common(num_most_common)\n",
    "\n",
    "# Print the most common words and their frequencies\n",
    "for word, frequency in most_common_words:\n",
    "    print(f\"{word}: {frequency}\")\n"
   ]
  },
  {
   "cell_type": "code",
   "execution_count": null,
   "id": "90819056",
   "metadata": {},
   "outputs": [],
   "source": []
  },
  {
   "cell_type": "markdown",
   "id": "e9a5626e",
   "metadata": {},
   "source": [
    "### Data visualisation"
   ]
  },
  {
   "cell_type": "code",
   "execution_count": 20,
   "id": "fe2e0f2d",
   "metadata": {},
   "outputs": [],
   "source": [
    "import sys\n",
    "import os"
   ]
  },
  {
   "cell_type": "code",
   "execution_count": 21,
   "id": "086d2850",
   "metadata": {},
   "outputs": [],
   "source": [
    "#module_path = '/Users/clairehe/Documents/GitHub/STATGR2022/Example/codes'\n",
    "module_path = 'C:/Users/julia/OneDrive/Documents/GitHub/ads-fall2023-project1-juliamblake1/lib'\n",
    "if module_path not in sys.path:\n",
    "    sys.path.append(module_path)"
   ]
  },
  {
   "cell_type": "code",
   "execution_count": 22,
   "id": "06a65e08",
   "metadata": {},
   "outputs": [
    {
     "ename": "ModuleNotFoundError",
     "evalue": "No module named 'codes'",
     "output_type": "error",
     "traceback": [
      "\u001b[1;31m---------------------------------------------------------------------------\u001b[0m",
      "\u001b[1;31mModuleNotFoundError\u001b[0m                       Traceback (most recent call last)",
      "\u001b[1;32m~\\AppData\\Local\\Temp\\ipykernel_16100\\1808092015.py\u001b[0m in \u001b[0;36m<module>\u001b[1;34m\u001b[0m\n\u001b[1;32m----> 1\u001b[1;33m \u001b[1;32mfrom\u001b[0m \u001b[0mcodes\u001b[0m\u001b[1;33m.\u001b[0m\u001b[0mwordcloud_maker\u001b[0m \u001b[1;32mimport\u001b[0m \u001b[1;33m*\u001b[0m\u001b[1;33m\u001b[0m\u001b[1;33m\u001b[0m\u001b[0m\n\u001b[0m",
      "\u001b[1;31mModuleNotFoundError\u001b[0m: No module named 'codes'"
     ]
    }
   ],
   "source": [
    "from codes.wordcloud_maker import *"
   ]
  },
  {
   "cell_type": "code",
   "execution_count": null,
   "id": "22b49cff",
   "metadata": {
    "scrolled": true
   },
   "outputs": [],
   "source": [
    "make_word_cloud(cleaned_hm)"
   ]
  },
  {
   "cell_type": "code",
   "execution_count": null,
   "id": "95acf3c6",
   "metadata": {},
   "outputs": [],
   "source": [
    "sns.histplot(cleaned_hm['num_sentence'])"
   ]
  },
  {
   "cell_type": "code",
   "execution_count": null,
   "id": "3fe0efb3",
   "metadata": {},
   "outputs": [],
   "source": []
  },
  {
   "cell_type": "markdown",
   "id": "97fb24a4",
   "metadata": {},
   "source": [
    "## Conclusion"
   ]
  },
  {
   "cell_type": "code",
   "execution_count": null,
   "id": "110c9e8c",
   "metadata": {},
   "outputs": [],
   "source": []
  },
  {
   "cell_type": "code",
   "execution_count": null,
   "id": "a5484459",
   "metadata": {},
   "outputs": [],
   "source": []
  },
  {
   "cell_type": "markdown",
   "id": "84f44229",
   "metadata": {},
   "source": [
    "#### Links"
   ]
  },
  {
   "cell_type": "code",
   "execution_count": null,
   "id": "a0cdbdcc",
   "metadata": {},
   "outputs": [],
   "source": [
    "https://github.com/megagonlabs/HappyDB/tree/master\n"
   ]
  },
  {
   "cell_type": "code",
   "execution_count": null,
   "id": "81b27e3f",
   "metadata": {},
   "outputs": [],
   "source": []
  },
  {
   "cell_type": "code",
   "execution_count": null,
   "id": "677d2e33",
   "metadata": {},
   "outputs": [],
   "source": [
    "from gensim import models, corpora\n",
    "\n",
    "happy_moments = happydemo[\"cleaned_hm\"].tolist()\n",
    "dictionary = corpora.Dictionary(happy_moments)\n",
    "corpus = [dictionary.doc2bow(text) for text in happy_moments]\n",
    "\n",
    "lda_model = models.LdaModel(corpus, num_topics=5, id2word=dictionary, passes=15)\n",
    "topics = lda_model.print_topics(num_words=10)\n",
    "\n",
    "for topic in topics:\n",
    "    print(topic)\n"
   ]
  }
 ],
 "metadata": {
  "kernelspec": {
   "display_name": "Python 3 (ipykernel)",
   "language": "python",
   "name": "python3"
  },
  "language_info": {
   "codemirror_mode": {
    "name": "ipython",
    "version": 3
   },
   "file_extension": ".py",
   "mimetype": "text/x-python",
   "name": "python",
   "nbconvert_exporter": "python",
   "pygments_lexer": "ipython3",
   "version": "3.9.13"
  }
 },
 "nbformat": 4,
 "nbformat_minor": 5
}
