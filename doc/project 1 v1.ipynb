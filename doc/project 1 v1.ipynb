{
 "cells": [
  {
   "attachments": {
    "happy2.jpeg": {
     "image/jpeg": "[encoded data removed]"
    }
   },
   "cell_type": "markdown",
   "id": "1e8fbfcd",
   "metadata": {},
   "source": [
    "![happy2.jpeg](attachment:happy2.jpeg)"
   ]
  },
  {
   "cell_type": "markdown",
   "id": "d73a3359",
   "metadata": {},
   "source": [
    "# What makes us happy?\n",
    "Author: Julia Blake \\\\\n",
    "GR5243 Applied Data Science"
   ]
  },
  {
   "cell_type": "markdown",
   "id": "07763d9f",
   "metadata": {},
   "source": [
    "The goal of this project is to look deeper into the causes that make us happy. Natural language processing and text mining are natural tools to derive interesting findings in this collection of happy moments."
   ]
  },
  {
   "cell_type": "markdown",
   "id": "2ee63d00",
   "metadata": {},
   "source": [
    "In this project you will carry out an exploratory data analysis of the corpus of HappyDB and write a blog on interesting findings."
   ]
  },
  {
   "cell_type": "code",
   "execution_count": null,
   "id": "8defecee",
   "metadata": {},
   "outputs": [],
   "source": []
  },
  {
   "cell_type": "code",
   "execution_count": null,
   "id": "06f77767",
   "metadata": {},
   "outputs": [],
   "source": []
  },
  {
   "cell_type": "markdown",
   "id": "aad9727c",
   "metadata": {},
   "source": [
    "## Preliminary Data Exploration"
   ]
  },
  {
   "cell_type": "markdown",
   "id": "e7030655",
   "metadata": {},
   "source": [
    "In order to draw any conclusions or relations from this data set, we must first explore what is provided to us. We will do a brief exploration into the variables."
   ]
  },
  {
   "cell_type": "code",
   "execution_count": 17,
   "id": "be7fa7b1",
   "metadata": {},
   "outputs": [],
   "source": [
    "import sys\n",
    "import numpy as np\n",
    "import matplotlib.pyplot as plt\n",
    "import seaborn as sns\n",
    "import plotly.express as p\n",
    "import pandas as pd"
   ]
  },
  {
   "cell_type": "code",
   "execution_count": 18,
   "id": "49700449",
   "metadata": {},
   "outputs": [
    {
     "name": "stdout",
     "output_type": "stream",
     "text": [
      "3.9.13 (main, Aug 25 2022, 23:51:50) [MSC v.1916 64 bit (AMD64)]\n"
     ]
    }
   ],
   "source": [
    "print(sys.version)"
   ]
  },
  {
   "cell_type": "code",
   "execution_count": 163,
   "id": "603ddd7a",
   "metadata": {},
   "outputs": [
    {
     "data": {
      "text/html": [
       "<div>\n",
       "<style scoped>\n",
       "    .dataframe tbody tr th:only-of-type {\n",
       "        vertical-align: middle;\n",
       "    }\n",
       "\n",
       "    .dataframe tbody tr th {\n",
       "        vertical-align: top;\n",
       "    }\n",
       "\n",
       "    .dataframe thead th {\n",
       "        text-align: right;\n",
       "    }\n",
       "</style>\n",
       "<table border=\"1\" class=\"dataframe\">\n",
       "  <thead>\n",
       "    <tr style=\"text-align: right;\">\n",
       "      <th></th>\n",
       "      <th>hmid</th>\n",
       "      <th>wid</th>\n",
       "      <th>reflection_period</th>\n",
       "      <th>original_hm</th>\n",
       "      <th>cleaned_hm</th>\n",
       "      <th>modified</th>\n",
       "      <th>num_sentence</th>\n",
       "      <th>ground_truth_category</th>\n",
       "      <th>predicted_category</th>\n",
       "      <th>age</th>\n",
       "      <th>country</th>\n",
       "      <th>gender</th>\n",
       "      <th>marital</th>\n",
       "      <th>parenthood</th>\n",
       "    </tr>\n",
       "  </thead>\n",
       "  <tbody>\n",
       "    <tr>\n",
       "      <th>0</th>\n",
       "      <td>27673</td>\n",
       "      <td>2053</td>\n",
       "      <td>24h</td>\n",
       "      <td>I went on a successful date with someone I fel...</td>\n",
       "      <td>I went on a successful date with someone I fel...</td>\n",
       "      <td>True</td>\n",
       "      <td>1</td>\n",
       "      <td>NaN</td>\n",
       "      <td>affection</td>\n",
       "      <td>35</td>\n",
       "      <td>USA</td>\n",
       "      <td>m</td>\n",
       "      <td>single</td>\n",
       "      <td>n</td>\n",
       "    </tr>\n",
       "    <tr>\n",
       "      <th>1</th>\n",
       "      <td>27873</td>\n",
       "      <td>2053</td>\n",
       "      <td>24h</td>\n",
       "      <td>I played a new game that was fun and got to en...</td>\n",
       "      <td>I played a new game that was fun and got to en...</td>\n",
       "      <td>True</td>\n",
       "      <td>1</td>\n",
       "      <td>NaN</td>\n",
       "      <td>leisure</td>\n",
       "      <td>35</td>\n",
       "      <td>USA</td>\n",
       "      <td>m</td>\n",
       "      <td>single</td>\n",
       "      <td>n</td>\n",
       "    </tr>\n",
       "    <tr>\n",
       "      <th>2</th>\n",
       "      <td>28073</td>\n",
       "      <td>2053</td>\n",
       "      <td>24h</td>\n",
       "      <td>I listened to some music and heard an entire a...</td>\n",
       "      <td>I listened to some music and heard an entire a...</td>\n",
       "      <td>True</td>\n",
       "      <td>1</td>\n",
       "      <td>NaN</td>\n",
       "      <td>leisure</td>\n",
       "      <td>35</td>\n",
       "      <td>USA</td>\n",
       "      <td>m</td>\n",
       "      <td>single</td>\n",
       "      <td>n</td>\n",
       "    </tr>\n",
       "    <tr>\n",
       "      <th>3</th>\n",
       "      <td>33522</td>\n",
       "      <td>2053</td>\n",
       "      <td>24h</td>\n",
       "      <td>Went to see a movie with my friend</td>\n",
       "      <td>Went to see a movie with my friend</td>\n",
       "      <td>True</td>\n",
       "      <td>1</td>\n",
       "      <td>NaN</td>\n",
       "      <td>bonding</td>\n",
       "      <td>35</td>\n",
       "      <td>USA</td>\n",
       "      <td>m</td>\n",
       "      <td>single</td>\n",
       "      <td>n</td>\n",
       "    </tr>\n",
       "    <tr>\n",
       "      <th>4</th>\n",
       "      <td>34522</td>\n",
       "      <td>2053</td>\n",
       "      <td>24h</td>\n",
       "      <td>Played guitar, learning a song on it</td>\n",
       "      <td>Played guitar, learning a song on it</td>\n",
       "      <td>True</td>\n",
       "      <td>1</td>\n",
       "      <td>NaN</td>\n",
       "      <td>leisure</td>\n",
       "      <td>35</td>\n",
       "      <td>USA</td>\n",
       "      <td>m</td>\n",
       "      <td>single</td>\n",
       "      <td>n</td>\n",
       "    </tr>\n",
       "    <tr>\n",
       "      <th>5</th>\n",
       "      <td>35522</td>\n",
       "      <td>2053</td>\n",
       "      <td>24h</td>\n",
       "      <td>Talked to my romantic prospect</td>\n",
       "      <td>Talked to my romantic prospect</td>\n",
       "      <td>True</td>\n",
       "      <td>1</td>\n",
       "      <td>NaN</td>\n",
       "      <td>affection</td>\n",
       "      <td>35</td>\n",
       "      <td>USA</td>\n",
       "      <td>m</td>\n",
       "      <td>single</td>\n",
       "      <td>n</td>\n",
       "    </tr>\n",
       "    <tr>\n",
       "      <th>6</th>\n",
       "      <td>40281</td>\n",
       "      <td>2053</td>\n",
       "      <td>24h</td>\n",
       "      <td>I played a game for about half an hour.</td>\n",
       "      <td>I played a game for about half an hour.</td>\n",
       "      <td>True</td>\n",
       "      <td>1</td>\n",
       "      <td>leisure</td>\n",
       "      <td>leisure</td>\n",
       "      <td>35</td>\n",
       "      <td>USA</td>\n",
       "      <td>m</td>\n",
       "      <td>single</td>\n",
       "      <td>n</td>\n",
       "    </tr>\n",
       "    <tr>\n",
       "      <th>7</th>\n",
       "      <td>40381</td>\n",
       "      <td>2053</td>\n",
       "      <td>24h</td>\n",
       "      <td>I discovered another album I hadn't heard by a...</td>\n",
       "      <td>I discovered another album I hadn't heard by a...</td>\n",
       "      <td>True</td>\n",
       "      <td>1</td>\n",
       "      <td>NaN</td>\n",
       "      <td>achievement</td>\n",
       "      <td>35</td>\n",
       "      <td>USA</td>\n",
       "      <td>m</td>\n",
       "      <td>single</td>\n",
       "      <td>n</td>\n",
       "    </tr>\n",
       "    <tr>\n",
       "      <th>8</th>\n",
       "      <td>40481</td>\n",
       "      <td>2053</td>\n",
       "      <td>24h</td>\n",
       "      <td>I talked to the girl I'm dating about some int...</td>\n",
       "      <td>I talked to the girl I'm dating about some int...</td>\n",
       "      <td>True</td>\n",
       "      <td>1</td>\n",
       "      <td>NaN</td>\n",
       "      <td>affection</td>\n",
       "      <td>35</td>\n",
       "      <td>USA</td>\n",
       "      <td>m</td>\n",
       "      <td>single</td>\n",
       "      <td>n</td>\n",
       "    </tr>\n",
       "    <tr>\n",
       "      <th>9</th>\n",
       "      <td>27674</td>\n",
       "      <td>2</td>\n",
       "      <td>24h</td>\n",
       "      <td>I was happy when my son got 90% marks in his e...</td>\n",
       "      <td>I was happy when my son got 90% marks in his e...</td>\n",
       "      <td>True</td>\n",
       "      <td>1</td>\n",
       "      <td>NaN</td>\n",
       "      <td>affection</td>\n",
       "      <td>29.0</td>\n",
       "      <td>IND</td>\n",
       "      <td>m</td>\n",
       "      <td>married</td>\n",
       "      <td>y</td>\n",
       "    </tr>\n",
       "    <tr>\n",
       "      <th>10</th>\n",
       "      <td>27874</td>\n",
       "      <td>2</td>\n",
       "      <td>24h</td>\n",
       "      <td>I was very happy when my family brings me beau...</td>\n",
       "      <td>I was very happy when my family brings me beau...</td>\n",
       "      <td>True</td>\n",
       "      <td>1</td>\n",
       "      <td>NaN</td>\n",
       "      <td>affection</td>\n",
       "      <td>29.0</td>\n",
       "      <td>IND</td>\n",
       "      <td>m</td>\n",
       "      <td>married</td>\n",
       "      <td>y</td>\n",
       "    </tr>\n",
       "    <tr>\n",
       "      <th>11</th>\n",
       "      <td>28074</td>\n",
       "      <td>2</td>\n",
       "      <td>24h</td>\n",
       "      <td>I was happy when I got my new incentives from ...</td>\n",
       "      <td>I was happy when I got my new incentives from ...</td>\n",
       "      <td>True</td>\n",
       "      <td>1</td>\n",
       "      <td>NaN</td>\n",
       "      <td>achievement</td>\n",
       "      <td>29.0</td>\n",
       "      <td>IND</td>\n",
       "      <td>m</td>\n",
       "      <td>married</td>\n",
       "      <td>y</td>\n",
       "    </tr>\n",
       "    <tr>\n",
       "      <th>12</th>\n",
       "      <td>29946</td>\n",
       "      <td>2</td>\n",
       "      <td>24h</td>\n",
       "      <td>When my family cooked my favorite food at night</td>\n",
       "      <td>When my family cooked my favorite food at night</td>\n",
       "      <td>True</td>\n",
       "      <td>1</td>\n",
       "      <td>NaN</td>\n",
       "      <td>affection</td>\n",
       "      <td>29.0</td>\n",
       "      <td>IND</td>\n",
       "      <td>m</td>\n",
       "      <td>married</td>\n",
       "      <td>y</td>\n",
       "    </tr>\n",
       "    <tr>\n",
       "      <th>13</th>\n",
       "      <td>30945</td>\n",
       "      <td>2</td>\n",
       "      <td>24h</td>\n",
       "      <td>When my son got recovery from their disease</td>\n",
       "      <td>When my son got recovery from their disease</td>\n",
       "      <td>True</td>\n",
       "      <td>1</td>\n",
       "      <td>NaN</td>\n",
       "      <td>affection</td>\n",
       "      <td>29.0</td>\n",
       "      <td>IND</td>\n",
       "      <td>m</td>\n",
       "      <td>married</td>\n",
       "      <td>y</td>\n",
       "    </tr>\n",
       "    <tr>\n",
       "      <th>14</th>\n",
       "      <td>31944</td>\n",
       "      <td>2</td>\n",
       "      <td>24h</td>\n",
       "      <td>When my mother got finalized stay for transfer...</td>\n",
       "      <td>When my mother got finalized stay for transfer...</td>\n",
       "      <td>True</td>\n",
       "      <td>1</td>\n",
       "      <td>NaN</td>\n",
       "      <td>affection</td>\n",
       "      <td>29.0</td>\n",
       "      <td>IND</td>\n",
       "      <td>m</td>\n",
       "      <td>married</td>\n",
       "      <td>y</td>\n",
       "    </tr>\n",
       "    <tr>\n",
       "      <th>15</th>\n",
       "      <td>32821</td>\n",
       "      <td>2</td>\n",
       "      <td>24h</td>\n",
       "      <td>When my family plan a abroad tour with me</td>\n",
       "      <td>When my family plan a abroad tour with me</td>\n",
       "      <td>True</td>\n",
       "      <td>1</td>\n",
       "      <td>affection</td>\n",
       "      <td>affection</td>\n",
       "      <td>29.0</td>\n",
       "      <td>IND</td>\n",
       "      <td>m</td>\n",
       "      <td>married</td>\n",
       "      <td>y</td>\n",
       "    </tr>\n",
       "    <tr>\n",
       "      <th>16</th>\n",
       "      <td>33021</td>\n",
       "      <td>2</td>\n",
       "      <td>24h</td>\n",
       "      <td>When my son realize their emotions and duty</td>\n",
       "      <td>When my son realize their emotions and duty</td>\n",
       "      <td>True</td>\n",
       "      <td>1</td>\n",
       "      <td>NaN</td>\n",
       "      <td>affection</td>\n",
       "      <td>29.0</td>\n",
       "      <td>IND</td>\n",
       "      <td>m</td>\n",
       "      <td>married</td>\n",
       "      <td>y</td>\n",
       "    </tr>\n",
       "    <tr>\n",
       "      <th>17</th>\n",
       "      <td>33221</td>\n",
       "      <td>2</td>\n",
       "      <td>24h</td>\n",
       "      <td>When my brother got a new job offer from abroad</td>\n",
       "      <td>When my brother got a new job offer from abroad</td>\n",
       "      <td>True</td>\n",
       "      <td>1</td>\n",
       "      <td>NaN</td>\n",
       "      <td>affection</td>\n",
       "      <td>29.0</td>\n",
       "      <td>IND</td>\n",
       "      <td>m</td>\n",
       "      <td>married</td>\n",
       "      <td>y</td>\n",
       "    </tr>\n",
       "    <tr>\n",
       "      <th>18</th>\n",
       "      <td>33843</td>\n",
       "      <td>2</td>\n",
       "      <td>24h</td>\n",
       "      <td>I was very happy last 24 hours when I received...</td>\n",
       "      <td>I was very happy last 24 hours when I received...</td>\n",
       "      <td>True</td>\n",
       "      <td>1</td>\n",
       "      <td>NaN</td>\n",
       "      <td>achievement</td>\n",
       "      <td>29.0</td>\n",
       "      <td>IND</td>\n",
       "      <td>m</td>\n",
       "      <td>married</td>\n",
       "      <td>y</td>\n",
       "    </tr>\n",
       "    <tr>\n",
       "      <th>19</th>\n",
       "      <td>34843</td>\n",
       "      <td>2</td>\n",
       "      <td>24h</td>\n",
       "      <td>When my house ready to live with my family</td>\n",
       "      <td>When my house ready to live with my family</td>\n",
       "      <td>True</td>\n",
       "      <td>1</td>\n",
       "      <td>affection</td>\n",
       "      <td>affection</td>\n",
       "      <td>29.0</td>\n",
       "      <td>IND</td>\n",
       "      <td>m</td>\n",
       "      <td>married</td>\n",
       "      <td>y</td>\n",
       "    </tr>\n",
       "  </tbody>\n",
       "</table>\n",
       "</div>"
      ],
      "text/plain": [
       "     hmid   wid reflection_period  \\\n",
       "0   27673  2053               24h   \n",
       "1   27873  2053               24h   \n",
       "2   28073  2053               24h   \n",
       "3   33522  2053               24h   \n",
       "4   34522  2053               24h   \n",
       "5   35522  2053               24h   \n",
       "6   40281  2053               24h   \n",
       "7   40381  2053               24h   \n",
       "8   40481  2053               24h   \n",
       "9   27674     2               24h   \n",
       "10  27874     2               24h   \n",
       "11  28074     2               24h   \n",
       "12  29946     2               24h   \n",
       "13  30945     2               24h   \n",
       "14  31944     2               24h   \n",
       "15  32821     2               24h   \n",
       "16  33021     2               24h   \n",
       "17  33221     2               24h   \n",
       "18  33843     2               24h   \n",
       "19  34843     2               24h   \n",
       "\n",
       "                                          original_hm  \\\n",
       "0   I went on a successful date with someone I fel...   \n",
       "1   I played a new game that was fun and got to en...   \n",
       "2   I listened to some music and heard an entire a...   \n",
       "3                  Went to see a movie with my friend   \n",
       "4                Played guitar, learning a song on it   \n",
       "5                      Talked to my romantic prospect   \n",
       "6             I played a game for about half an hour.   \n",
       "7   I discovered another album I hadn't heard by a...   \n",
       "8   I talked to the girl I'm dating about some int...   \n",
       "9   I was happy when my son got 90% marks in his e...   \n",
       "10  I was very happy when my family brings me beau...   \n",
       "11  I was happy when I got my new incentives from ...   \n",
       "12    When my family cooked my favorite food at night   \n",
       "13        When my son got recovery from their disease   \n",
       "14  When my mother got finalized stay for transfer...   \n",
       "15          When my family plan a abroad tour with me   \n",
       "16        When my son realize their emotions and duty   \n",
       "17    When my brother got a new job offer from abroad   \n",
       "18  I was very happy last 24 hours when I received...   \n",
       "19         When my house ready to live with my family   \n",
       "\n",
       "                                           cleaned_hm  modified  num_sentence  \\\n",
       "0   I went on a successful date with someone I fel...      True             1   \n",
       "1   I played a new game that was fun and got to en...      True             1   \n",
       "2   I listened to some music and heard an entire a...      True             1   \n",
       "3                  Went to see a movie with my friend      True             1   \n",
       "4                Played guitar, learning a song on it      True             1   \n",
       "5                      Talked to my romantic prospect      True             1   \n",
       "6             I played a game for about half an hour.      True             1   \n",
       "7   I discovered another album I hadn't heard by a...      True             1   \n",
       "8   I talked to the girl I'm dating about some int...      True             1   \n",
       "9   I was happy when my son got 90% marks in his e...      True             1   \n",
       "10  I was very happy when my family brings me beau...      True             1   \n",
       "11  I was happy when I got my new incentives from ...      True             1   \n",
       "12    When my family cooked my favorite food at night      True             1   \n",
       "13        When my son got recovery from their disease      True             1   \n",
       "14  When my mother got finalized stay for transfer...      True             1   \n",
       "15          When my family plan a abroad tour with me      True             1   \n",
       "16        When my son realize their emotions and duty      True             1   \n",
       "17    When my brother got a new job offer from abroad      True             1   \n",
       "18  I was very happy last 24 hours when I received...      True             1   \n",
       "19         When my house ready to live with my family      True             1   \n",
       "\n",
       "   ground_truth_category predicted_category   age country gender  marital  \\\n",
       "0                    NaN          affection    35     USA      m   single   \n",
       "1                    NaN            leisure    35     USA      m   single   \n",
       "2                    NaN            leisure    35     USA      m   single   \n",
       "3                    NaN            bonding    35     USA      m   single   \n",
       "4                    NaN            leisure    35     USA      m   single   \n",
       "5                    NaN          affection    35     USA      m   single   \n",
       "6                leisure            leisure    35     USA      m   single   \n",
       "7                    NaN        achievement    35     USA      m   single   \n",
       "8                    NaN          affection    35     USA      m   single   \n",
       "9                    NaN          affection  29.0     IND      m  married   \n",
       "10                   NaN          affection  29.0     IND      m  married   \n",
       "11                   NaN        achievement  29.0     IND      m  married   \n",
       "12                   NaN          affection  29.0     IND      m  married   \n",
       "13                   NaN          affection  29.0     IND      m  married   \n",
       "14                   NaN          affection  29.0     IND      m  married   \n",
       "15             affection          affection  29.0     IND      m  married   \n",
       "16                   NaN          affection  29.0     IND      m  married   \n",
       "17                   NaN          affection  29.0     IND      m  married   \n",
       "18                   NaN        achievement  29.0     IND      m  married   \n",
       "19             affection          affection  29.0     IND      m  married   \n",
       "\n",
       "   parenthood  \n",
       "0           n  \n",
       "1           n  \n",
       "2           n  \n",
       "3           n  \n",
       "4           n  \n",
       "5           n  \n",
       "6           n  \n",
       "7           n  \n",
       "8           n  \n",
       "9           y  \n",
       "10          y  \n",
       "11          y  \n",
       "12          y  \n",
       "13          y  \n",
       "14          y  \n",
       "15          y  \n",
       "16          y  \n",
       "17          y  \n",
       "18          y  \n",
       "19          y  "
      ]
     },
     "execution_count": 163,
     "metadata": {},
     "output_type": "execute_result"
    }
   ],
   "source": [
    "folder = 'https://raw.githubusercontent.com/megagonlabs/HappyDB/master/happydb/data/'\n",
    "cleaned_hm = pd.read_csv(folder+'cleaned_hm.csv', sep = \",\",on_bad_lines='skip')\n",
    "demographic = pd.read_csv(folder+'demographic.csv', sep = \",\",on_bad_lines='skip')\n",
    "happydemo = pd.merge(cleaned_hm, demographic, on='wid')\n",
    "happydemo.head(20)"
   ]
  },
  {
   "cell_type": "code",
   "execution_count": 131,
   "id": "b83f3d97",
   "metadata": {
    "scrolled": false
   },
   "outputs": [
    {
     "name": "stdout",
     "output_type": "stream",
     "text": [
      "<class 'pandas.core.frame.DataFrame'>\n",
      "Int64Index: 100535 entries, 0 to 100534\n",
      "Data columns (total 14 columns):\n",
      " #   Column                 Non-Null Count   Dtype \n",
      "---  ------                 --------------   ----- \n",
      " 0   hmid                   100535 non-null  int64 \n",
      " 1   wid                    100535 non-null  int64 \n",
      " 2   reflection_period      100535 non-null  object\n",
      " 3   original_hm            100535 non-null  object\n",
      " 4   cleaned_hm             100535 non-null  object\n",
      " 5   modified               100535 non-null  bool  \n",
      " 6   num_sentence           100535 non-null  int64 \n",
      " 7   ground_truth_category  14125 non-null   object\n",
      " 8   predicted_category     100535 non-null  object\n",
      " 9   age                    100442 non-null  object\n",
      " 10  country                100332 non-null  object\n",
      " 11  gender                 100456 non-null  object\n",
      " 12  marital                100378 non-null  object\n",
      " 13  parenthood             100457 non-null  object\n",
      "dtypes: bool(1), int64(3), object(10)\n",
      "memory usage: 10.8+ MB\n"
     ]
    }
   ],
   "source": [
    "happydemo.info()"
   ]
  },
  {
   "cell_type": "markdown",
   "id": "d6d27045",
   "metadata": {},
   "source": [
    "#### hmid, wid"
   ]
  },
  {
   "cell_type": "code",
   "execution_count": 132,
   "id": "906f2c8f",
   "metadata": {},
   "outputs": [
    {
     "data": {
      "text/plain": [
       "(100535, 10841)"
      ]
     },
     "execution_count": 132,
     "metadata": {},
     "output_type": "execute_result"
    }
   ],
   "source": [
    "len(happydemo['hmid'].unique()), len(happydemo['wid'].unique())"
   ]
  },
  {
   "cell_type": "code",
   "execution_count": 133,
   "id": "3ef244ba",
   "metadata": {},
   "outputs": [
    {
     "data": {
      "text/plain": [
       "4     96\n",
       "18    96\n",
       "54    93\n",
       "31    90\n",
       "8     90\n",
       "1     90\n",
       "11    87\n",
       "9     87\n",
       "3     84\n",
       "28    84\n",
       "Name: wid, dtype: int64"
      ]
     },
     "execution_count": 133,
     "metadata": {},
     "output_type": "execute_result"
    }
   ],
   "source": [
    "happydemo.loc[:,\"wid\"].value_counts().head(10)"
   ]
  },
  {
   "cell_type": "markdown",
   "id": "217d33f7",
   "metadata": {},
   "source": [
    "We have 100,535 entries of happy moments, from 100,535 unique IDs but only 10,841 unique workers. Thus we have the same worker providing multiple happy moments entries. Two workers provided 96 entries of happy moments. At first look this appeared to be a very robust database, however we must keep in mind that although there are over 100,000 entries, they are by just over 10,000 workers. Albeit still a very good sample. Additionally, there are only 14,125 'ground_truth_category' entries.  "
   ]
  },
  {
   "cell_type": "markdown",
   "id": "46eb25fc",
   "metadata": {},
   "source": [
    "#### reflection period"
   ]
  },
  {
   "cell_type": "code",
   "execution_count": 134,
   "id": "b83868ec",
   "metadata": {},
   "outputs": [
    {
     "data": {
      "text/plain": [
       "0.5043417715223554"
      ]
     },
     "execution_count": 134,
     "metadata": {},
     "output_type": "execute_result"
    }
   ],
   "source": [
    "reflection_period_prop = (happydemo.loc[happydemo.reflection_period == '3m', 'reflection_period'].count())/ len(happydemo.reflection_period)\n",
    "reflection_period_prop"
   ]
  },
  {
   "cell_type": "markdown",
   "id": "8fc77498",
   "metadata": {},
   "source": [
    "The reflection period was assigned and provided to the workers. Half of the workers had a reflection period of 24 hours and the other half had 3 minutes."
   ]
  },
  {
   "cell_type": "markdown",
   "id": "b86869c3",
   "metadata": {},
   "source": [
    "#### number of sentences"
   ]
  },
  {
   "cell_type": "code",
   "execution_count": 135,
   "id": "ff8f6d3c",
   "metadata": {},
   "outputs": [
    {
     "data": {
      "image/png": "[encoded data removed]",
      "text/plain": [
       "<Figure size 1000x400 with 1 Axes>"
      ]
     },
     "metadata": {},
     "output_type": "display_data"
    }
   ],
   "source": [
    "sentence_counts = happydemo['num_sentence'].value_counts()\n",
    "\n",
    "# Create a bar plot\n",
    "plt.figure(figsize=(10, 4))  # You can adjust the figure size as needed\n",
    "plt.bar(sentence_counts.index, sentence_counts.values)\n",
    "\n",
    "# Adding labels and title\n",
    "plt.xlabel('Number of Sentences')\n",
    "plt.ylabel('Count')\n",
    "plt.title('Distribution of Number of Sentences')\n",
    "plt.show()"
   ]
  },
  {
   "cell_type": "code",
   "execution_count": 136,
   "id": "35321f94",
   "metadata": {},
   "outputs": [
    {
     "data": {
      "text/plain": [
       "69"
      ]
     },
     "execution_count": 136,
     "metadata": {},
     "output_type": "execute_result"
    }
   ],
   "source": [
    "happydemo['num_sentence'].max()"
   ]
  },
  {
   "cell_type": "markdown",
   "id": "9a806013",
   "metadata": {},
   "source": [
    "The length of the entries range from one sentence to 69 sentences!  The majority of entries are completed in just one sentence (83,711), however there were a few workers that were wrote a lot."
   ]
  },
  {
   "cell_type": "markdown",
   "id": "68b9a187",
   "metadata": {},
   "source": [
    "#### predicted category"
   ]
  },
  {
   "cell_type": "code",
   "execution_count": 137,
   "id": "31181bf6",
   "metadata": {
    "scrolled": false
   },
   "outputs": [
    {
     "data": {
      "text/plain": [
       "affection           34168\n",
       "achievement         33993\n",
       "enjoy_the_moment    11144\n",
       "bonding             10727\n",
       "leisure              7458\n",
       "nature               1843\n",
       "exercise             1202\n",
       "Name: predicted_category, dtype: int64"
      ]
     },
     "execution_count": 137,
     "metadata": {},
     "output_type": "execute_result"
    }
   ],
   "source": [
    "happydemo.loc[:,\"predicted_category\"].value_counts()"
   ]
  },
  {
   "cell_type": "code",
   "execution_count": 138,
   "id": "1d9abb1b",
   "metadata": {
    "scrolled": true
   },
   "outputs": [
    {
     "data": {
      "image/png": "[encoded data removed]",
      "text/plain": [
       "<Figure size 2000x400 with 1 Axes>"
      ]
     },
     "metadata": {},
     "output_type": "display_data"
    }
   ],
   "source": [
    "predicted_category_counts = happydemo['predicted_category'].value_counts()\n",
    "\n",
    "# Create a bar plot\n",
    "plt.figure(figsize=(20, 4))  # You can adjust the figure size as needed\n",
    "plt.bar(predicted_category_counts.index, predicted_category_counts.values)\n",
    "\n",
    "# Adding labels and title\n",
    "plt.xlabel('Number of Sentences')\n",
    "plt.ylabel('Count')\n",
    "plt.title('Distribution of Predicted Category')\n",
    "plt.show()"
   ]
  },
  {
   "cell_type": "code",
   "execution_count": 139,
   "id": "05df9d52",
   "metadata": {
    "scrolled": true
   },
   "outputs": [
    {
     "name": "stdout",
     "output_type": "stream",
     "text": [
      "33.986173969264435 33.81210523698214\n"
     ]
    }
   ],
   "source": [
    "prop_affection = (happydemo.loc[happydemo.predicted_category == 'affection', 'predicted_category'].count())/ len(happydemo.predicted_category) *100\n",
    "prop_achievement = (happydemo.loc[happydemo.predicted_category == 'achievement', 'predicted_category'].count())/ len(happydemo.predicted_category) *100\n",
    "print(prop_affection, prop_achievement)"
   ]
  },
  {
   "cell_type": "markdown",
   "id": "9b39df46",
   "metadata": {},
   "source": [
    "Thus, we can see that the categories that tend to provide the most happy moments were those revolving around affection (33.99%), and achievement (33.81%. "
   ]
  },
  {
   "cell_type": "code",
   "execution_count": 165,
   "id": "db546539",
   "metadata": {},
   "outputs": [
    {
     "name": "stdout",
     "output_type": "stream",
     "text": [
      "57.38300094494455 41.84512856219227 0.6932908937186054\n"
     ]
    }
   ],
   "source": [
    "prop_male = (happydemo.loc[happydemo.gender == 'm', 'gender'].count())/ len(happydemo.gender) *100\n",
    "prop_female = (happydemo.loc[happydemo.gender == 'f', 'gender'].count())/ len(happydemo.gender) *100\n",
    "prop_other = (happydemo.loc[happydemo.gender == 'o', 'gender'].count())/ len(happydemo.gender) *100\n",
    "print(prop_male, prop_female, prop_other)"
   ]
  },
  {
   "cell_type": "code",
   "execution_count": 166,
   "id": "d945edc4",
   "metadata": {},
   "outputs": [
    {
     "data": {
      "image/png": "[encoded data removed]",
      "text/plain": [
       "<Figure size 2000x400 with 1 Axes>"
      ]
     },
     "metadata": {},
     "output_type": "display_data"
    }
   ],
   "source": [
    "gender_counts = happydemo['gender'].value_counts()\n",
    "\n",
    "# Create a bar plot\n",
    "plt.figure(figsize=(20, 4))  # You can adjust the figure size as needed\n",
    "plt.bar(gender_counts.index, gender_counts.values)\n",
    "\n",
    "# Adding labels and title\n",
    "plt.xlabel('Number of Sentences')\n",
    "plt.ylabel('Count')\n",
    "plt.title('Distribution of Gender')\n",
    "plt.show()"
   ]
  },
  {
   "cell_type": "markdown",
   "id": "f838d4dd",
   "metadata": {},
   "source": [
    "Here we can see the distribution of men and women submissions in this sample. Although there are a substantial amount more men (57% versus 42%), I believe the sample is sufficient to continue."
   ]
  },
  {
   "cell_type": "markdown",
   "id": "40a0276a",
   "metadata": {},
   "source": [
    "### Cleaning data"
   ]
  },
  {
   "cell_type": "code",
   "execution_count": 140,
   "id": "f5b38394",
   "metadata": {
    "scrolled": true
   },
   "outputs": [
    {
     "data": {
      "text/plain": [
       "Text(0.5, 1.0, 'Missing data')"
      ]
     },
     "execution_count": 140,
     "metadata": {},
     "output_type": "execute_result"
    },
    {
     "data": {
      "image/png": "[encoded data removed]",
      "text/plain": [
       "<Figure size 600x400 with 1 Axes>"
      ]
     },
     "metadata": {},
     "output_type": "display_data"
    }
   ],
   "source": [
    "fig, ax = plt.subplots(figsize=(6,4))\n",
    "sns.heatmap(happydemo.isnull(), cbar=False)\n",
    "plt.title('Missing data')"
   ]
  },
  {
   "cell_type": "markdown",
   "id": "b8304fa4",
   "metadata": {},
   "source": [
    "# What type of happiness are men and women more likely to describe?"
   ]
  },
  {
   "attachments": {
    "manwoman.jpeg": {
     "image/jpeg": "[encoded data removed]"
    }
   },
   "cell_type": "markdown",
   "id": "bf1ea3a6",
   "metadata": {},
   "source": [
    "![manwoman.jpeg](attachment:manwoman.jpeg)"
   ]
  },
  {
   "cell_type": "code",
   "execution_count": null,
   "id": "13a6616f",
   "metadata": {},
   "outputs": [],
   "source": []
  },
  {
   "cell_type": "code",
   "execution_count": null,
   "id": "cc59eb04",
   "metadata": {},
   "outputs": [],
   "source": []
  },
  {
   "cell_type": "code",
   "execution_count": null,
   "id": "88d8e0b8",
   "metadata": {},
   "outputs": [],
   "source": []
  },
  {
   "cell_type": "markdown",
   "id": "7c291123",
   "metadata": {},
   "source": [
    "## Find your question"
   ]
  },
  {
   "cell_type": "markdown",
   "id": "b6012e46",
   "metadata": {},
   "source": [
    "### Modelling\n",
    "Sentiment analysis, Clustering techniques, Topic modelling (LDA, word2vec)..."
   ]
  },
  {
   "cell_type": "markdown",
   "id": "2aa744fd",
   "metadata": {},
   "source": [
    "In order to analyze the most commonly used words in the text provided by the workers, we remove stop words, or common words and characters which don't alter meaning in a sentence (e.g. I, for)."
   ]
  },
  {
   "cell_type": "code",
   "execution_count": 122,
   "id": "67ac7606",
   "metadata": {},
   "outputs": [
    {
     "name": "stderr",
     "output_type": "stream",
     "text": [
      "[nltk_data] Downloading package stopwords to\n",
      "[nltk_data]     C:\\Users\\julia\\AppData\\Roaming\\nltk_data...\n",
      "[nltk_data]   Package stopwords is already up-to-date!\n",
      "[nltk_data] Downloading package vader_lexicon to\n",
      "[nltk_data]     C:\\Users\\julia\\AppData\\Roaming\\nltk_data...\n",
      "[nltk_data]   Package vader_lexicon is already up-to-date!\n",
      "[nltk_data] Downloading package punkt to\n",
      "[nltk_data]     C:\\Users\\julia\\AppData\\Roaming\\nltk_data...\n",
      "[nltk_data]   Unzipping tokenizers\\punkt.zip.\n"
     ]
    },
    {
     "data": {
      "text/plain": [
       "True"
      ]
     },
     "execution_count": 122,
     "metadata": {},
     "output_type": "execute_result"
    }
   ],
   "source": [
    "import nltk\n",
    "\n",
    "nltk.download(['stopwords','vader_lexicon']) #download aspects of nltk needed for cleaning and analysis\n",
    "from nltk.corpus import stopwords\n",
    "from nltk.sentiment import SentimentIntensityAnalyzer\n",
    "\n",
    "from nltk.tokenize import word_tokenize\n",
    "from nltk.corpus import stopwords\n",
    "from collections import Counter\n",
    "\n",
    "nltk.download('punkt')"
   ]
  },
  {
   "cell_type": "code",
   "execution_count": 123,
   "id": "89a1e7f7",
   "metadata": {},
   "outputs": [],
   "source": [
    "## Tokenize and preprocess the text, removing stopwords\n",
    "stop_words = set(stopwords.words('english')+['-pron-',',','.',';',':','?','!','-','--'])\n",
    "word_counts = Counter()"
   ]
  },
  {
   "cell_type": "code",
   "execution_count": 141,
   "id": "b92e1d35",
   "metadata": {},
   "outputs": [
    {
     "name": "stdout",
     "output_type": "stream",
     "text": [
      "happy: 56145\n",
      "got: 40143\n",
      "made: 34269\n",
      "went: 28848\n",
      "time: 27780\n",
      "new: 26604\n",
      "day: 24102\n",
      "work: 23541\n",
      "last: 19158\n",
      "friend: 18411\n",
      "good: 17529\n",
      "really: 16089\n",
      "one: 15969\n",
      "able: 15363\n",
      "today: 15228\n",
      "friends: 14085\n",
      "family: 13872\n",
      "first: 13680\n",
      "home: 12582\n",
      "get: 11811\n"
     ]
    }
   ],
   "source": [
    "for text in happydemo[\"cleaned_hm\"]:\n",
    "    tokens = word_tokenize(text.lower())\n",
    "    filtered_tokens = [word for word in tokens if word.isalnum() and word not in stop_words]\n",
    "    word_counts.update(filtered_tokens)\n",
    "\n",
    "# Get the most common words and their frequencies\n",
    "num_most_common = 20\n",
    "most_common_words = word_counts.most_common(num_most_common)\n",
    "\n",
    "# Print the most common words and their frequencies\n",
    "for word, frequency in most_common_words:\n",
    "    print(f\"{word}: {frequency}\")\n"
   ]
  },
  {
   "cell_type": "code",
   "execution_count": null,
   "id": "90819056",
   "metadata": {},
   "outputs": [],
   "source": []
  },
  {
   "cell_type": "markdown",
   "id": "e9a5626e",
   "metadata": {},
   "source": [
    "### Data visualisation"
   ]
  },
  {
   "cell_type": "code",
   "execution_count": 23,
   "id": "fe2e0f2d",
   "metadata": {},
   "outputs": [],
   "source": [
    "import sys\n",
    "import os"
   ]
  },
  {
   "cell_type": "code",
   "execution_count": 108,
   "id": "086d2850",
   "metadata": {},
   "outputs": [],
   "source": [
    "#module_path = '/Users/clairehe/Documents/GitHub/STATGR2022/Example/codes'\n",
    "module_path = 'C:/Users/julia/OneDrive/Documents/GitHub/ads-fall2023-project1-juliamblake1/lib'\n",
    "if module_path not in sys.path:\n",
    "    sys.path.append(module_path)"
   ]
  },
  {
   "cell_type": "code",
   "execution_count": 109,
   "id": "06a65e08",
   "metadata": {},
   "outputs": [
    {
     "ename": "ModuleNotFoundError",
     "evalue": "No module named 'codes'",
     "output_type": "error",
     "traceback": [
      "\u001b[1;31m---------------------------------------------------------------------------\u001b[0m",
      "\u001b[1;31mModuleNotFoundError\u001b[0m                       Traceback (most recent call last)",
      "\u001b[1;32m~\\AppData\\Local\\Temp\\ipykernel_12232\\1808092015.py\u001b[0m in \u001b[0;36m<module>\u001b[1;34m\u001b[0m\n\u001b[1;32m----> 1\u001b[1;33m \u001b[1;32mfrom\u001b[0m \u001b[0mcodes\u001b[0m\u001b[1;33m.\u001b[0m\u001b[0mwordcloud_maker\u001b[0m \u001b[1;32mimport\u001b[0m \u001b[1;33m*\u001b[0m\u001b[1;33m\u001b[0m\u001b[1;33m\u001b[0m\u001b[0m\n\u001b[0m",
      "\u001b[1;31mModuleNotFoundError\u001b[0m: No module named 'codes'"
     ]
    }
   ],
   "source": [
    "from codes.wordcloud_maker import *"
   ]
  },
  {
   "cell_type": "code",
   "execution_count": 143,
   "id": "22b49cff",
   "metadata": {
    "scrolled": true
   },
   "outputs": [
    {
     "ename": "NameError",
     "evalue": "name 'make_word_cloud' is not defined",
     "output_type": "error",
     "traceback": [
      "\u001b[1;31m---------------------------------------------------------------------------\u001b[0m",
      "\u001b[1;31mNameError\u001b[0m                                 Traceback (most recent call last)",
      "\u001b[1;32m~\\AppData\\Local\\Temp\\ipykernel_12232\\2126372368.py\u001b[0m in \u001b[0;36m<module>\u001b[1;34m\u001b[0m\n\u001b[1;32m----> 1\u001b[1;33m \u001b[0mmake_word_cloud\u001b[0m\u001b[1;33m(\u001b[0m\u001b[0mcleaned_hm\u001b[0m\u001b[1;33m)\u001b[0m\u001b[1;33m\u001b[0m\u001b[1;33m\u001b[0m\u001b[0m\n\u001b[0m",
      "\u001b[1;31mNameError\u001b[0m: name 'make_word_cloud' is not defined"
     ]
    }
   ],
   "source": [
    "make_word_cloud(cleaned_hm)"
   ]
  },
  {
   "cell_type": "code",
   "execution_count": 142,
   "id": "95acf3c6",
   "metadata": {},
   "outputs": [
    {
     "data": {
      "text/plain": [
       "<AxesSubplot:xlabel='num_sentence', ylabel='Count'>"
      ]
     },
     "execution_count": 142,
     "metadata": {},
     "output_type": "execute_result"
    },
    {
     "data": {
      "image/png": "[encoded data removed]",
      "text/plain": [
       "<Figure size 640x480 with 1 Axes>"
      ]
     },
     "metadata": {},
     "output_type": "display_data"
    }
   ],
   "source": [
    "sns.histplot(cleaned_hm['num_sentence'])"
   ]
  },
  {
   "cell_type": "code",
   "execution_count": null,
   "id": "3fe0efb3",
   "metadata": {},
   "outputs": [],
   "source": []
  },
  {
   "cell_type": "markdown",
   "id": "229d581e",
   "metadata": {},
   "source": [
    "## Conclusion"
   ]
  },
  {
   "cell_type": "code",
   "execution_count": null,
   "id": "03e4c9a7",
   "metadata": {},
   "outputs": [],
   "source": []
  },
  {
   "cell_type": "code",
   "execution_count": null,
   "id": "8826ebb6",
   "metadata": {},
   "outputs": [],
   "source": []
  },
  {
   "cell_type": "markdown",
   "id": "a931106a",
   "metadata": {},
   "source": [
    "#### Links"
   ]
  },
  {
   "cell_type": "code",
   "execution_count": null,
   "id": "441d8566",
   "metadata": {},
   "outputs": [],
   "source": [
    "https://github.com/megagonlabs/HappyDB/tree/master\n"
   ]
  },
  {
   "cell_type": "code",
   "execution_count": null,
   "id": "3a2d8972",
   "metadata": {},
   "outputs": [],
   "source": []
  },
  {
   "cell_type": "code",
   "execution_count": 158,
   "id": "7b2d719a",
   "metadata": {},
   "outputs": [
    {
     "ename": "TypeError",
     "evalue": "doc2bow expects an array of unicode tokens on input, not a single string",
     "output_type": "error",
     "traceback": [
      "\u001b[1;31m---------------------------------------------------------------------------\u001b[0m",
      "\u001b[1;31mTypeError\u001b[0m                                 Traceback (most recent call last)",
      "\u001b[1;32m~\\AppData\\Local\\Temp\\ipykernel_12232\\1778831374.py\u001b[0m in \u001b[0;36m<module>\u001b[1;34m\u001b[0m\n\u001b[0;32m      2\u001b[0m \u001b[1;33m\u001b[0m\u001b[0m\n\u001b[0;32m      3\u001b[0m \u001b[0mhappy_moments\u001b[0m \u001b[1;33m=\u001b[0m \u001b[0mhappydemo\u001b[0m\u001b[1;33m[\u001b[0m\u001b[1;34m\"cleaned_hm\"\u001b[0m\u001b[1;33m]\u001b[0m\u001b[1;33m.\u001b[0m\u001b[0mtolist\u001b[0m\u001b[1;33m(\u001b[0m\u001b[1;33m)\u001b[0m\u001b[1;33m\u001b[0m\u001b[1;33m\u001b[0m\u001b[0m\n\u001b[1;32m----> 4\u001b[1;33m \u001b[0mdictionary\u001b[0m \u001b[1;33m=\u001b[0m \u001b[0mcorpora\u001b[0m\u001b[1;33m.\u001b[0m\u001b[0mDictionary\u001b[0m\u001b[1;33m(\u001b[0m\u001b[0mhappy_moments\u001b[0m\u001b[1;33m)\u001b[0m\u001b[1;33m\u001b[0m\u001b[1;33m\u001b[0m\u001b[0m\n\u001b[0m\u001b[0;32m      5\u001b[0m \u001b[0mcorpus\u001b[0m \u001b[1;33m=\u001b[0m \u001b[1;33m[\u001b[0m\u001b[0mdictionary\u001b[0m\u001b[1;33m.\u001b[0m\u001b[0mdoc2bow\u001b[0m\u001b[1;33m(\u001b[0m\u001b[0mtext\u001b[0m\u001b[1;33m)\u001b[0m \u001b[1;32mfor\u001b[0m \u001b[0mtext\u001b[0m \u001b[1;32min\u001b[0m \u001b[0mhappy_moments\u001b[0m\u001b[1;33m]\u001b[0m\u001b[1;33m\u001b[0m\u001b[1;33m\u001b[0m\u001b[0m\n\u001b[0;32m      6\u001b[0m \u001b[1;33m\u001b[0m\u001b[0m\n",
      "\u001b[1;32m~\\anaconda3\\anaconda3_\\lib\\site-packages\\gensim\\corpora\\dictionary.py\u001b[0m in \u001b[0;36m__init__\u001b[1;34m(self, documents, prune_at)\u001b[0m\n\u001b[0;32m     76\u001b[0m \u001b[1;33m\u001b[0m\u001b[0m\n\u001b[0;32m     77\u001b[0m         \u001b[1;32mif\u001b[0m \u001b[0mdocuments\u001b[0m \u001b[1;32mis\u001b[0m \u001b[1;32mnot\u001b[0m \u001b[1;32mNone\u001b[0m\u001b[1;33m:\u001b[0m\u001b[1;33m\u001b[0m\u001b[1;33m\u001b[0m\u001b[0m\n\u001b[1;32m---> 78\u001b[1;33m             \u001b[0mself\u001b[0m\u001b[1;33m.\u001b[0m\u001b[0madd_documents\u001b[0m\u001b[1;33m(\u001b[0m\u001b[0mdocuments\u001b[0m\u001b[1;33m,\u001b[0m \u001b[0mprune_at\u001b[0m\u001b[1;33m=\u001b[0m\u001b[0mprune_at\u001b[0m\u001b[1;33m)\u001b[0m\u001b[1;33m\u001b[0m\u001b[1;33m\u001b[0m\u001b[0m\n\u001b[0m\u001b[0;32m     79\u001b[0m             self.add_lifecycle_event(\n\u001b[0;32m     80\u001b[0m                 \u001b[1;34m\"created\"\u001b[0m\u001b[1;33m,\u001b[0m\u001b[1;33m\u001b[0m\u001b[1;33m\u001b[0m\u001b[0m\n",
      "\u001b[1;32m~\\anaconda3\\anaconda3_\\lib\\site-packages\\gensim\\corpora\\dictionary.py\u001b[0m in \u001b[0;36madd_documents\u001b[1;34m(self, documents, prune_at)\u001b[0m\n\u001b[0;32m    200\u001b[0m \u001b[1;33m\u001b[0m\u001b[0m\n\u001b[0;32m    201\u001b[0m             \u001b[1;31m# update Dictionary with the document\u001b[0m\u001b[1;33m\u001b[0m\u001b[1;33m\u001b[0m\u001b[0m\n\u001b[1;32m--> 202\u001b[1;33m             \u001b[0mself\u001b[0m\u001b[1;33m.\u001b[0m\u001b[0mdoc2bow\u001b[0m\u001b[1;33m(\u001b[0m\u001b[0mdocument\u001b[0m\u001b[1;33m,\u001b[0m \u001b[0mallow_update\u001b[0m\u001b[1;33m=\u001b[0m\u001b[1;32mTrue\u001b[0m\u001b[1;33m)\u001b[0m  \u001b[1;31m# ignore the result, here we only care about updating token ids\u001b[0m\u001b[1;33m\u001b[0m\u001b[1;33m\u001b[0m\u001b[0m\n\u001b[0m\u001b[0;32m    203\u001b[0m \u001b[1;33m\u001b[0m\u001b[0m\n\u001b[0;32m    204\u001b[0m         \u001b[0mlogger\u001b[0m\u001b[1;33m.\u001b[0m\u001b[0minfo\u001b[0m\u001b[1;33m(\u001b[0m\u001b[1;34m\"built %s from %i documents (total %i corpus positions)\"\u001b[0m\u001b[1;33m,\u001b[0m \u001b[0mself\u001b[0m\u001b[1;33m,\u001b[0m \u001b[0mself\u001b[0m\u001b[1;33m.\u001b[0m\u001b[0mnum_docs\u001b[0m\u001b[1;33m,\u001b[0m \u001b[0mself\u001b[0m\u001b[1;33m.\u001b[0m\u001b[0mnum_pos\u001b[0m\u001b[1;33m)\u001b[0m\u001b[1;33m\u001b[0m\u001b[1;33m\u001b[0m\u001b[0m\n",
      "\u001b[1;32m~\\anaconda3\\anaconda3_\\lib\\site-packages\\gensim\\corpora\\dictionary.py\u001b[0m in \u001b[0;36mdoc2bow\u001b[1;34m(self, document, allow_update, return_missing)\u001b[0m\n\u001b[0;32m    237\u001b[0m         \"\"\"\n\u001b[0;32m    238\u001b[0m         \u001b[1;32mif\u001b[0m \u001b[0misinstance\u001b[0m\u001b[1;33m(\u001b[0m\u001b[0mdocument\u001b[0m\u001b[1;33m,\u001b[0m \u001b[0mstr\u001b[0m\u001b[1;33m)\u001b[0m\u001b[1;33m:\u001b[0m\u001b[1;33m\u001b[0m\u001b[1;33m\u001b[0m\u001b[0m\n\u001b[1;32m--> 239\u001b[1;33m             \u001b[1;32mraise\u001b[0m \u001b[0mTypeError\u001b[0m\u001b[1;33m(\u001b[0m\u001b[1;34m\"doc2bow expects an array of unicode tokens on input, not a single string\"\u001b[0m\u001b[1;33m)\u001b[0m\u001b[1;33m\u001b[0m\u001b[1;33m\u001b[0m\u001b[0m\n\u001b[0m\u001b[0;32m    240\u001b[0m \u001b[1;33m\u001b[0m\u001b[0m\n\u001b[0;32m    241\u001b[0m         \u001b[1;31m# Construct (word, frequency) mapping.\u001b[0m\u001b[1;33m\u001b[0m\u001b[1;33m\u001b[0m\u001b[0m\n",
      "\u001b[1;31mTypeError\u001b[0m: doc2bow expects an array of unicode tokens on input, not a single string"
     ]
    }
   ],
   "source": [
    "from gensim import models, corpora\n",
    "\n",
    "happy_moments = happydemo[\"cleaned_hm\"].tolist()\n",
    "dictionary = corpora.Dictionary(happy_moments)\n",
    "corpus = [dictionary.doc2bow(text) for text in happy_moments]\n",
    "\n",
    "lda_model = models.LdaModel(corpus, num_topics=5, id2word=dictionary, passes=15)\n",
    "topics = lda_model.print_topics(num_words=10)\n",
    "\n",
    "for topic in topics:\n",
    "    print(topic)\n"
   ]
  }
 ],
 "metadata": {
  "kernelspec": {
   "display_name": "Python 3 (ipykernel)",
   "language": "python",
   "name": "python3"
  },
  "language_info": {
   "codemirror_mode": {
    "name": "ipython",
    "version": 3
   },
   "file_extension": ".py",
   "mimetype": "text/x-python",
   "name": "python",
   "nbconvert_exporter": "python",
   "pygments_lexer": "ipython3",
   "version": "3.9.13"
  }
 },
 "nbformat": 4,
 "nbformat_minor": 5
}
